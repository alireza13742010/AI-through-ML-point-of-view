{
  "nbformat": 4,
  "nbformat_minor": 0,
  "metadata": {
    "colab": {
      "provenance": [],
      "gpuType": "T4"
    },
    "kernelspec": {
      "name": "python3",
      "display_name": "Python 3"
    },
    "language_info": {
      "name": "python"
    },
    "accelerator": "GPU"
  },
  "cells": [
    {
      "cell_type": "markdown",
      "source": [
        "# ***Vectorization***"
      ],
      "metadata": {
        "id": "rdXFMmyWGvml"
      }
    },
    {
      "cell_type": "markdown",
      "source": [
        "***Vectorizing code is a technique that will typically enable you to create faster and more readable code. Vectorization is the process of performing computation on a set of values at once instead of explicitly looping through individual elements one at a time. ***"
      ],
      "metadata": {
        "id": "eChNGFn9HCrc"
      }
    },
    {
      "cell_type": "code",
      "execution_count": 1,
      "metadata": {
        "id": "LqGt-_MNGoR5"
      },
      "outputs": [],
      "source": [
        "import numpy as np\n",
        "\n",
        "# create our data\n",
        "a = np.array([1, 2, 3])\n",
        "b = np.array([2, 3, 4])\n",
        "c = np.array([[2, 3, 4]])"
      ]
    },
    {
      "cell_type": "code",
      "source": [
        "type(a)\n",
        "print(a.shape)\n",
        "print(c.shape)"
      ],
      "metadata": {
        "colab": {
          "base_uri": "https://localhost:8080/"
        },
        "id": "4emO_bvRKb1x",
        "outputId": "eebe571f-2a9f-4f21-f804-0e97b42bdaf3"
      },
      "execution_count": 2,
      "outputs": [
        {
          "output_type": "stream",
          "name": "stdout",
          "text": [
            "(3,)\n",
            "(1, 3)\n"
          ]
        }
      ]
    },
    {
      "cell_type": "code",
      "source": [
        "# nonvectorized approach\n",
        "c = []  # Start with an empty array that we will populate in the loop\n",
        "for i in range(len(a)):\n",
        "    c.append(a[i] + b[i])\n",
        "\n",
        "print(\"Nonvectorized approach ->\", c)"
      ],
      "metadata": {
        "colab": {
          "base_uri": "https://localhost:8080/"
        },
        "id": "1KT-u_LkHZ32",
        "outputId": "130bd4ad-7e37-48c4-d663-5ae77130eb0a"
      },
      "execution_count": 3,
      "outputs": [
        {
          "output_type": "stream",
          "name": "stdout",
          "text": [
            "Nonvectorized approach -> [3, 5, 7]\n"
          ]
        }
      ]
    },
    {
      "cell_type": "code",
      "source": [
        "# vectorized approach\n",
        "c = a + b\n",
        "\n",
        "print(\"Vectorized approach ->\", c)"
      ],
      "metadata": {
        "colab": {
          "base_uri": "https://localhost:8080/"
        },
        "id": "ICgfhzg1Hpsd",
        "outputId": "f8b21a89-af7e-4021-e0f8-b35f4047af6e"
      },
      "execution_count": 4,
      "outputs": [
        {
          "output_type": "stream",
          "name": "stdout",
          "text": [
            "Vectorized approach -> [3 5 7]\n"
          ]
        }
      ]
    },
    {
      "cell_type": "markdown",
      "source": [
        "*** the notation of the vectorized approach is far clearer than the non-vectorized approach. It says exactly what is happening - an element-wise addition of vectors. This approach is even clearer with 2D matrices since 2D matrices would require nested loops. In data science we are often working with vectors or matrices of data and need to perform element-wise operations on them as we discussed before, so vectorized notation is often preferable for clarity of the code.***"
      ],
      "metadata": {
        "id": "r2K-YLZYH1cU"
      }
    },
    {
      "cell_type": "code",
      "source": [
        "def double_nonvectorized(array):\n",
        "    doubled = array.copy()\n",
        "    for i in range(len(array)):\n",
        "        doubled[i] = array[i] * 2\n",
        "    return doubled"
      ],
      "metadata": {
        "id": "aDyKErYkHtPz"
      },
      "execution_count": 5,
      "outputs": []
    },
    {
      "cell_type": "code",
      "source": [
        "def double_vectorized(array):\n",
        "    return array * 2"
      ],
      "metadata": {
        "id": "q8a0-PSaIGhc"
      },
      "execution_count": 6,
      "outputs": []
    },
    {
      "cell_type": "code",
      "source": [
        "array = np.array([1, 2, 3, 4])\n",
        "print(\"Nonvectorized = \", double_nonvectorized(array))\n",
        "print(\"Vectorized    = \", double_vectorized(array))"
      ],
      "metadata": {
        "colab": {
          "base_uri": "https://localhost:8080/"
        },
        "id": "_IOG_S8OIK3E",
        "outputId": "3cbcadfd-0cf5-4a63-c373-8f30f82c8665"
      },
      "execution_count": 7,
      "outputs": [
        {
          "output_type": "stream",
          "name": "stdout",
          "text": [
            "Nonvectorized =  [2 4 6 8]\n",
            "Vectorized    =  [2 4 6 8]\n"
          ]
        }
      ]
    },
    {
      "cell_type": "code",
      "source": [
        "import time\n",
        "\n",
        "\n",
        "def timer(function, argument, num_runs):\n",
        "    total_time = 0\n",
        "    # Rerun the code num_runs times\n",
        "    for i in range(num_runs):\n",
        "        t0 = time.time()  # Capture the initial time\n",
        "        function(argument)  # Run the function we're timing\n",
        "        t1 = time.time()  # Capture the final time\n",
        "        total_time += t1 - t0\n",
        "    return total_time / num_runs  # Return the average across the runs"
      ],
      "metadata": {
        "id": "drK5g91MIOWL"
      },
      "execution_count": 8,
      "outputs": []
    },
    {
      "cell_type": "code",
      "source": [
        "big_array = np.arange(1000000)\n",
        "num_runs = 5\n",
        "\n",
        "time_nonvectorized = timer(double_nonvectorized, big_array, num_runs)\n",
        "time_vectorized = timer(double_vectorized, big_array, num_runs)\n",
        "\n",
        "print(\"Nonvectorized code took \", time_nonvectorized, \"s\")\n",
        "print(\"Vectorized code took    \", time_vectorized, \"s\")\n",
        "print(\"Vectorized code was \", time_nonvectorized / time_vectorized, \" times faster\")"
      ],
      "metadata": {
        "colab": {
          "base_uri": "https://localhost:8080/"
        },
        "id": "UDggKHp3IdXE",
        "outputId": "f9e90b04-a762-41cb-8457-17155c876eeb"
      },
      "execution_count": 9,
      "outputs": [
        {
          "output_type": "stream",
          "name": "stdout",
          "text": [
            "Nonvectorized code took  0.5241479873657227 s\n",
            "Vectorized code took     0.001785421371459961 s\n",
            "Vectorized code was  293.57102796250297  times faster\n"
          ]
        }
      ]
    },
    {
      "cell_type": "markdown",
      "source": [
        "# ***Loop Vectorizification***"
      ],
      "metadata": {
        "id": "oSCoHFGNJBl9"
      }
    },
    {
      "cell_type": "code",
      "source": [
        "import time\n",
        "import numpy\n",
        "import array\n",
        "# a and b is an array of array with int of 8 bytes size\n",
        "a = array.array('q')\n",
        "for i in range(50000):\n",
        "  a.append(i);\n",
        "  b = array.array('q')\n",
        "for i in range(50000, 100000):\n",
        "  b.append(i)\n",
        "  # classic dot product of vectors implementation\n",
        "start_time = time.process_time()\n",
        "classic_dot_product = 0.0;\n",
        "for i in range(len(a)):\n",
        "  classic_dot_product += a[i] * b[i]\n",
        "end_time = time.process_time()\n",
        "print('classic_dot_product = '+ str(classic_dot_product));\n",
        "print('Computation time using loops = ' + str(1000*(end_time-start_time)) + 'ms')\n",
        "vectorised_start_time = time.process_time()\n",
        "vectorised_dot_product = numpy.dot(a, b)\n",
        "vectorised_end_time = time.process_time()\n",
        "print('\\nvectorised_dot_product = '+str(vectorised_dot_product))\n",
        "print('Computation time using vectorization = '+str(1000*(vectorised_end_time-vectorised_start_time))+ 'ms')"
      ],
      "metadata": {
        "colab": {
          "base_uri": "https://localhost:8080/"
        },
        "id": "6vSz4_OwJBD-",
        "outputId": "cb1cc8d6-a370-4dba-bca5-44dec23ca177"
      },
      "execution_count": 10,
      "outputs": [
        {
          "output_type": "stream",
          "name": "stdout",
          "text": [
            "classic_dot_product = 104164166675000.0\n",
            "Computation time using loops = 16.798377000000198ms\n",
            "\n",
            "vectorised_dot_product = 104164166675000\n",
            "Computation time using vectorization = 1.2374350000001755ms\n"
          ]
        }
      ]
    },
    {
      "cell_type": "markdown",
      "source": [
        "***Outer Product***"
      ],
      "metadata": {
        "id": "p4Z1hcGSJ2z-"
      }
    },
    {
      "cell_type": "code",
      "source": [
        "import time\n",
        "import numpy\n",
        "import array\n",
        "# a and b is an array of array with int of 2 bytes size\n",
        "a = array.array('i')\n",
        "for i in range(300):\n",
        "  a.append(i);\n",
        "  b = array.array('i')\n",
        "for i in range(300, 600):\n",
        "  b.append(i)\n",
        "# classic outer product of vectors implementation\n",
        "start_time = time.process_time()\n",
        "classic_outer_product = numpy.zeros((300, 300))\n",
        "for i in range(len(a)):\n",
        "  for j in range(len(b)):\n",
        "    classic_outer_product[i][j]= a[i]*b[j]\n",
        "end_time = time.process_time()\n",
        "print('outer_product = '+ str(classic_outer_product));\n",
        "print('Computation time using loops = ' + str(1000*(end_time - start_time )) + 'ms')\n",
        "vectorised_start_time = time.process_time()\n",
        "vectorised_outer_product = numpy.outer(a, b)\n",
        "vectorised_end_time = time.process_time()\n",
        "print('vectorised_outer_product = '+str(vectorised_outer_product));\n",
        "print('Computation time using vectorization = '+str(1000*(vectorised_end_time - vectorised_start_time ))+'ms')\n"
      ],
      "metadata": {
        "colab": {
          "base_uri": "https://localhost:8080/"
        },
        "id": "3HB8ia8QJliM",
        "outputId": "326443d7-3332-406c-8380-620cf6aa5b1e"
      },
      "execution_count": 11,
      "outputs": [
        {
          "output_type": "stream",
          "name": "stdout",
          "text": [
            "outer_product = [[     0.      0.      0. ...      0.      0.      0.]\n",
            " [   300.    301.    302. ...    597.    598.    599.]\n",
            " [   600.    602.    604. ...   1194.   1196.   1198.]\n",
            " ...\n",
            " [ 89100.  89397.  89694. ... 177309. 177606. 177903.]\n",
            " [ 89400.  89698.  89996. ... 177906. 178204. 178502.]\n",
            " [ 89700.  89999.  90298. ... 178503. 178802. 179101.]]\n",
            "Computation time using loops = 46.209578999999664ms\n",
            "vectorised_outer_product = [[     0      0      0 ...      0      0      0]\n",
            " [   300    301    302 ...    597    598    599]\n",
            " [   600    602    604 ...   1194   1196   1198]\n",
            " ...\n",
            " [ 89100  89397  89694 ... 177309 177606 177903]\n",
            " [ 89400  89698  89996 ... 177906 178204 178502]\n",
            " [ 89700  89999  90298 ... 178503 178802 179101]]\n",
            "Computation time using vectorization = 1.4567709999999678ms\n"
          ]
        }
      ]
    },
    {
      "cell_type": "markdown",
      "source": [
        "***Element wise Product***"
      ],
      "metadata": {
        "id": "xPV1HUuiLe8m"
      }
    },
    {
      "cell_type": "code",
      "source": [
        "import time\n",
        "import numpy\n",
        "import array\n",
        "# a and b is an array of array with int of 2 bytes size\n",
        "a = array.array('i')\n",
        "for i in range(20000):\n",
        "  a.append(i);\n",
        "  b = array.array('i')\n",
        "for i in range(20000, 40000):\n",
        "  b.append(i)\n",
        "# classic element wise product of vectors implementation\n",
        "vector = numpy.zeros((20000))\n",
        "start_time = time.process_time()\n",
        "for i in range(len(a)):\n",
        "  vector[i]= a[i]*b[i]\n",
        "end_time = time.process_time()\n",
        "print('Element wise Product = '+ str(vector));\n",
        "print('Computation time using loops = ' + str(1000*(end_time - start_time )) + 'ms')\n",
        "vectorised_end_time = time.process_time()\n",
        "vector = numpy.multiply(a, b)\n",
        "vectorised_start_time = time.process_time()\n",
        "print('Element wise Product = '+str(vector));\n",
        "print('Computation time using vectorization = '+str(1000*(vectorised_end_time - vectorised_start_time ))+'ms')"
      ],
      "metadata": {
        "colab": {
          "base_uri": "https://localhost:8080/"
        },
        "id": "8J04FPt5LQhj",
        "outputId": "a9976721-fc3f-4ea7-cd4d-13f5c85c56b1"
      },
      "execution_count": 12,
      "outputs": [
        {
          "output_type": "stream",
          "name": "stdout",
          "text": [
            "Element wise Product = [0.00000000e+00 2.00010000e+04 4.00040000e+04 ... 7.99820009e+08\n",
            " 7.99880004e+08 7.99940001e+08]\n",
            "Computation time using loops = 6.911990999999951ms\n",
            "Element wise Product = [        0     20001     40004 ... 799820009 799880004 799940001]\n",
            "Computation time using vectorization = -0.15551499999943985ms\n"
          ]
        }
      ]
    },
    {
      "cell_type": "markdown",
      "source": [
        "***Sum of numbers***"
      ],
      "metadata": {
        "id": "2fWPki8cOsnO"
      }
    },
    {
      "cell_type": "code",
      "source": [
        "import time\n",
        "import numpy as np\n",
        "start = time.time()\n",
        "total = 0\n",
        "# sum using loop\n",
        "for item in range(0, 300):\n",
        "  total = total + item\n",
        "print('Sum:' + str(total))\n",
        "end = time.time()\n",
        "print('Computation time using loop is:' +str(end - start))\n",
        "# using vectorization\n",
        "vectorised_start_time = time.time()\n",
        "print('Sum:' + str(np.sum(np.arange(300))))\n",
        "vectorised_end_time= time.time()\n",
        "print('Computation time using vectorization is:' +str(vectorised_end_time - vectorised_start_time ))"
      ],
      "metadata": {
        "colab": {
          "base_uri": "https://localhost:8080/"
        },
        "id": "ZJgcLsdhOxO0",
        "outputId": "3ff0fd68-c428-40a2-e566-4ed39e1b023b"
      },
      "execution_count": 13,
      "outputs": [
        {
          "output_type": "stream",
          "name": "stdout",
          "text": [
            "Sum:44850\n",
            "Computation time using loop is:0.0002243518829345703\n",
            "Sum:44850\n",
            "Computation time using vectorization is:0.00019407272338867188\n"
          ]
        }
      ]
    },
    {
      "cell_type": "markdown",
      "source": [
        "# ***For Loops***"
      ],
      "metadata": {
        "id": "tZOWDyH5JOGM"
      }
    },
    {
      "cell_type": "markdown",
      "source": [
        "***Without Vectorization***"
      ],
      "metadata": {
        "id": "9eLMv-z7LmR-"
      }
    },
    {
      "cell_type": "code",
      "source": [
        "import time\n",
        "start = time.time()\n",
        "\n",
        "# iterative sum\n",
        "total = 0\n",
        "# iterating through 1.5 Million numbers\n",
        "for item in range(0, 1500000):\n",
        "    total = total + item\n",
        "\n",
        "print('sum is:' + str(total))\n",
        "end = time.time()\n",
        "print(end - start)\n",
        "#1124999250000\n",
        "#0.14 Seconds"
      ],
      "metadata": {
        "colab": {
          "base_uri": "https://localhost:8080/"
        },
        "id": "CZe1EW98JNjG",
        "outputId": "cbbdc081-3739-42d4-b614-f00dedaac01a"
      },
      "execution_count": 14,
      "outputs": [
        {
          "output_type": "stream",
          "name": "stdout",
          "text": [
            "sum is:1124999250000\n",
            "0.20457816123962402\n"
          ]
        }
      ]
    },
    {
      "cell_type": "markdown",
      "source": [
        "# ***Vectorization***"
      ],
      "metadata": {
        "id": "EgXnaa7oJ92n"
      }
    },
    {
      "cell_type": "code",
      "source": [
        "import numpy as np\n",
        "\n",
        "start = time.time()\n",
        "# vectorized sum - using numpy for vectorization\n",
        "# np.arange create the sequence of numbers from 0 to 1499999\n",
        "print(np.sum(np.arange(1500000)))\n",
        "end = time.time()\n",
        "print(end - start)\n",
        "\n",
        "##1124999250000\n",
        "##0.008 Seconds"
      ],
      "metadata": {
        "colab": {
          "base_uri": "https://localhost:8080/"
        },
        "id": "6hqwzRFLJ9WF",
        "outputId": "ad64f2a5-d3d9-425d-d6a8-2765f8446888"
      },
      "execution_count": 15,
      "outputs": [
        {
          "output_type": "stream",
          "name": "stdout",
          "text": [
            "1124999250000\n",
            "0.013508796691894531\n"
          ]
        }
      ]
    },
    {
      "cell_type": "markdown",
      "source": [
        "***For loops on Pandas***"
      ],
      "metadata": {
        "id": "ESVFbgr5L03d"
      }
    },
    {
      "cell_type": "code",
      "source": [
        "import numpy as np\n",
        "import pandas as pd\n",
        "df = pd.DataFrame(np.random.randint(0, 50, size=(50000, 4)), columns=('a','b','c','d'))\n",
        "df.shape\n",
        "# (5000000, 5)\n",
        "df.head()"
      ],
      "metadata": {
        "colab": {
          "base_uri": "https://localhost:8080/",
          "height": 206
        },
        "id": "_oTlX9PILvF_",
        "outputId": "75785dfb-4a5f-4f42-e169-071855d1f6bd"
      },
      "execution_count": 16,
      "outputs": [
        {
          "output_type": "execute_result",
          "data": {
            "text/plain": [
              "    a   b   c   d\n",
              "0  49   4   1  25\n",
              "1  30  13  25  30\n",
              "2   2   2   1   1\n",
              "3  17  13   6   1\n",
              "4   9  30  25  26"
            ],
            "text/html": [
              "\n",
              "  <div id=\"df-d6573844-23f6-4938-a5c0-10a1b917094e\" class=\"colab-df-container\">\n",
              "    <div>\n",
              "<style scoped>\n",
              "    .dataframe tbody tr th:only-of-type {\n",
              "        vertical-align: middle;\n",
              "    }\n",
              "\n",
              "    .dataframe tbody tr th {\n",
              "        vertical-align: top;\n",
              "    }\n",
              "\n",
              "    .dataframe thead th {\n",
              "        text-align: right;\n",
              "    }\n",
              "</style>\n",
              "<table border=\"1\" class=\"dataframe\">\n",
              "  <thead>\n",
              "    <tr style=\"text-align: right;\">\n",
              "      <th></th>\n",
              "      <th>a</th>\n",
              "      <th>b</th>\n",
              "      <th>c</th>\n",
              "      <th>d</th>\n",
              "    </tr>\n",
              "  </thead>\n",
              "  <tbody>\n",
              "    <tr>\n",
              "      <th>0</th>\n",
              "      <td>49</td>\n",
              "      <td>4</td>\n",
              "      <td>1</td>\n",
              "      <td>25</td>\n",
              "    </tr>\n",
              "    <tr>\n",
              "      <th>1</th>\n",
              "      <td>30</td>\n",
              "      <td>13</td>\n",
              "      <td>25</td>\n",
              "      <td>30</td>\n",
              "    </tr>\n",
              "    <tr>\n",
              "      <th>2</th>\n",
              "      <td>2</td>\n",
              "      <td>2</td>\n",
              "      <td>1</td>\n",
              "      <td>1</td>\n",
              "    </tr>\n",
              "    <tr>\n",
              "      <th>3</th>\n",
              "      <td>17</td>\n",
              "      <td>13</td>\n",
              "      <td>6</td>\n",
              "      <td>1</td>\n",
              "    </tr>\n",
              "    <tr>\n",
              "      <th>4</th>\n",
              "      <td>9</td>\n",
              "      <td>30</td>\n",
              "      <td>25</td>\n",
              "      <td>26</td>\n",
              "    </tr>\n",
              "  </tbody>\n",
              "</table>\n",
              "</div>\n",
              "    <div class=\"colab-df-buttons\">\n",
              "\n",
              "  <div class=\"colab-df-container\">\n",
              "    <button class=\"colab-df-convert\" onclick=\"convertToInteractive('df-d6573844-23f6-4938-a5c0-10a1b917094e')\"\n",
              "            title=\"Convert this dataframe to an interactive table.\"\n",
              "            style=\"display:none;\">\n",
              "\n",
              "  <svg xmlns=\"http://www.w3.org/2000/svg\" height=\"24px\" viewBox=\"0 -960 960 960\">\n",
              "    <path d=\"M120-120v-720h720v720H120Zm60-500h600v-160H180v160Zm220 220h160v-160H400v160Zm0 220h160v-160H400v160ZM180-400h160v-160H180v160Zm440 0h160v-160H620v160ZM180-180h160v-160H180v160Zm440 0h160v-160H620v160Z\"/>\n",
              "  </svg>\n",
              "    </button>\n",
              "\n",
              "  <style>\n",
              "    .colab-df-container {\n",
              "      display:flex;\n",
              "      gap: 12px;\n",
              "    }\n",
              "\n",
              "    .colab-df-convert {\n",
              "      background-color: #E8F0FE;\n",
              "      border: none;\n",
              "      border-radius: 50%;\n",
              "      cursor: pointer;\n",
              "      display: none;\n",
              "      fill: #1967D2;\n",
              "      height: 32px;\n",
              "      padding: 0 0 0 0;\n",
              "      width: 32px;\n",
              "    }\n",
              "\n",
              "    .colab-df-convert:hover {\n",
              "      background-color: #E2EBFA;\n",
              "      box-shadow: 0px 1px 2px rgba(60, 64, 67, 0.3), 0px 1px 3px 1px rgba(60, 64, 67, 0.15);\n",
              "      fill: #174EA6;\n",
              "    }\n",
              "\n",
              "    .colab-df-buttons div {\n",
              "      margin-bottom: 4px;\n",
              "    }\n",
              "\n",
              "    [theme=dark] .colab-df-convert {\n",
              "      background-color: #3B4455;\n",
              "      fill: #D2E3FC;\n",
              "    }\n",
              "\n",
              "    [theme=dark] .colab-df-convert:hover {\n",
              "      background-color: #434B5C;\n",
              "      box-shadow: 0px 1px 3px 1px rgba(0, 0, 0, 0.15);\n",
              "      filter: drop-shadow(0px 1px 2px rgba(0, 0, 0, 0.3));\n",
              "      fill: #FFFFFF;\n",
              "    }\n",
              "  </style>\n",
              "\n",
              "    <script>\n",
              "      const buttonEl =\n",
              "        document.querySelector('#df-d6573844-23f6-4938-a5c0-10a1b917094e button.colab-df-convert');\n",
              "      buttonEl.style.display =\n",
              "        google.colab.kernel.accessAllowed ? 'block' : 'none';\n",
              "\n",
              "      async function convertToInteractive(key) {\n",
              "        const element = document.querySelector('#df-d6573844-23f6-4938-a5c0-10a1b917094e');\n",
              "        const dataTable =\n",
              "          await google.colab.kernel.invokeFunction('convertToInteractive',\n",
              "                                                    [key], {});\n",
              "        if (!dataTable) return;\n",
              "\n",
              "        const docLinkHtml = 'Like what you see? Visit the ' +\n",
              "          '<a target=\"_blank\" href=https://colab.research.google.com/notebooks/data_table.ipynb>data table notebook</a>'\n",
              "          + ' to learn more about interactive tables.';\n",
              "        element.innerHTML = '';\n",
              "        dataTable['output_type'] = 'display_data';\n",
              "        await google.colab.output.renderOutput(dataTable, element);\n",
              "        const docLink = document.createElement('div');\n",
              "        docLink.innerHTML = docLinkHtml;\n",
              "        element.appendChild(docLink);\n",
              "      }\n",
              "    </script>\n",
              "  </div>\n",
              "\n",
              "\n",
              "<div id=\"df-393d06d1-c067-4dce-ada4-ed05284c3479\">\n",
              "  <button class=\"colab-df-quickchart\" onclick=\"quickchart('df-393d06d1-c067-4dce-ada4-ed05284c3479')\"\n",
              "            title=\"Suggest charts\"\n",
              "            style=\"display:none;\">\n",
              "\n",
              "<svg xmlns=\"http://www.w3.org/2000/svg\" height=\"24px\"viewBox=\"0 0 24 24\"\n",
              "     width=\"24px\">\n",
              "    <g>\n",
              "        <path d=\"M19 3H5c-1.1 0-2 .9-2 2v14c0 1.1.9 2 2 2h14c1.1 0 2-.9 2-2V5c0-1.1-.9-2-2-2zM9 17H7v-7h2v7zm4 0h-2V7h2v10zm4 0h-2v-4h2v4z\"/>\n",
              "    </g>\n",
              "</svg>\n",
              "  </button>\n",
              "\n",
              "<style>\n",
              "  .colab-df-quickchart {\n",
              "      --bg-color: #E8F0FE;\n",
              "      --fill-color: #1967D2;\n",
              "      --hover-bg-color: #E2EBFA;\n",
              "      --hover-fill-color: #174EA6;\n",
              "      --disabled-fill-color: #AAA;\n",
              "      --disabled-bg-color: #DDD;\n",
              "  }\n",
              "\n",
              "  [theme=dark] .colab-df-quickchart {\n",
              "      --bg-color: #3B4455;\n",
              "      --fill-color: #D2E3FC;\n",
              "      --hover-bg-color: #434B5C;\n",
              "      --hover-fill-color: #FFFFFF;\n",
              "      --disabled-bg-color: #3B4455;\n",
              "      --disabled-fill-color: #666;\n",
              "  }\n",
              "\n",
              "  .colab-df-quickchart {\n",
              "    background-color: var(--bg-color);\n",
              "    border: none;\n",
              "    border-radius: 50%;\n",
              "    cursor: pointer;\n",
              "    display: none;\n",
              "    fill: var(--fill-color);\n",
              "    height: 32px;\n",
              "    padding: 0;\n",
              "    width: 32px;\n",
              "  }\n",
              "\n",
              "  .colab-df-quickchart:hover {\n",
              "    background-color: var(--hover-bg-color);\n",
              "    box-shadow: 0 1px 2px rgba(60, 64, 67, 0.3), 0 1px 3px 1px rgba(60, 64, 67, 0.15);\n",
              "    fill: var(--button-hover-fill-color);\n",
              "  }\n",
              "\n",
              "  .colab-df-quickchart-complete:disabled,\n",
              "  .colab-df-quickchart-complete:disabled:hover {\n",
              "    background-color: var(--disabled-bg-color);\n",
              "    fill: var(--disabled-fill-color);\n",
              "    box-shadow: none;\n",
              "  }\n",
              "\n",
              "  .colab-df-spinner {\n",
              "    border: 2px solid var(--fill-color);\n",
              "    border-color: transparent;\n",
              "    border-bottom-color: var(--fill-color);\n",
              "    animation:\n",
              "      spin 1s steps(1) infinite;\n",
              "  }\n",
              "\n",
              "  @keyframes spin {\n",
              "    0% {\n",
              "      border-color: transparent;\n",
              "      border-bottom-color: var(--fill-color);\n",
              "      border-left-color: var(--fill-color);\n",
              "    }\n",
              "    20% {\n",
              "      border-color: transparent;\n",
              "      border-left-color: var(--fill-color);\n",
              "      border-top-color: var(--fill-color);\n",
              "    }\n",
              "    30% {\n",
              "      border-color: transparent;\n",
              "      border-left-color: var(--fill-color);\n",
              "      border-top-color: var(--fill-color);\n",
              "      border-right-color: var(--fill-color);\n",
              "    }\n",
              "    40% {\n",
              "      border-color: transparent;\n",
              "      border-right-color: var(--fill-color);\n",
              "      border-top-color: var(--fill-color);\n",
              "    }\n",
              "    60% {\n",
              "      border-color: transparent;\n",
              "      border-right-color: var(--fill-color);\n",
              "    }\n",
              "    80% {\n",
              "      border-color: transparent;\n",
              "      border-right-color: var(--fill-color);\n",
              "      border-bottom-color: var(--fill-color);\n",
              "    }\n",
              "    90% {\n",
              "      border-color: transparent;\n",
              "      border-bottom-color: var(--fill-color);\n",
              "    }\n",
              "  }\n",
              "</style>\n",
              "\n",
              "  <script>\n",
              "    async function quickchart(key) {\n",
              "      const quickchartButtonEl =\n",
              "        document.querySelector('#' + key + ' button');\n",
              "      quickchartButtonEl.disabled = true;  // To prevent multiple clicks.\n",
              "      quickchartButtonEl.classList.add('colab-df-spinner');\n",
              "      try {\n",
              "        const charts = await google.colab.kernel.invokeFunction(\n",
              "            'suggestCharts', [key], {});\n",
              "      } catch (error) {\n",
              "        console.error('Error during call to suggestCharts:', error);\n",
              "      }\n",
              "      quickchartButtonEl.classList.remove('colab-df-spinner');\n",
              "      quickchartButtonEl.classList.add('colab-df-quickchart-complete');\n",
              "    }\n",
              "    (() => {\n",
              "      let quickchartButtonEl =\n",
              "        document.querySelector('#df-393d06d1-c067-4dce-ada4-ed05284c3479 button');\n",
              "      quickchartButtonEl.style.display =\n",
              "        google.colab.kernel.accessAllowed ? 'block' : 'none';\n",
              "    })();\n",
              "  </script>\n",
              "</div>\n",
              "    </div>\n",
              "  </div>\n"
            ],
            "application/vnd.google.colaboratory.intrinsic+json": {
              "type": "dataframe",
              "variable_name": "df",
              "summary": "{\n  \"name\": \"df\",\n  \"rows\": 50000,\n  \"fields\": [\n    {\n      \"column\": \"a\",\n      \"properties\": {\n        \"dtype\": \"number\",\n        \"std\": 14,\n        \"min\": 0,\n        \"max\": 49,\n        \"num_unique_values\": 50,\n        \"samples\": [\n          25,\n          15,\n          8\n        ],\n        \"semantic_type\": \"\",\n        \"description\": \"\"\n      }\n    },\n    {\n      \"column\": \"b\",\n      \"properties\": {\n        \"dtype\": \"number\",\n        \"std\": 14,\n        \"min\": 0,\n        \"max\": 49,\n        \"num_unique_values\": 50,\n        \"samples\": [\n          22,\n          43,\n          28\n        ],\n        \"semantic_type\": \"\",\n        \"description\": \"\"\n      }\n    },\n    {\n      \"column\": \"c\",\n      \"properties\": {\n        \"dtype\": \"number\",\n        \"std\": 14,\n        \"min\": 0,\n        \"max\": 49,\n        \"num_unique_values\": 50,\n        \"samples\": [\n          47,\n          7,\n          4\n        ],\n        \"semantic_type\": \"\",\n        \"description\": \"\"\n      }\n    },\n    {\n      \"column\": \"d\",\n      \"properties\": {\n        \"dtype\": \"number\",\n        \"std\": 14,\n        \"min\": 0,\n        \"max\": 49,\n        \"num_unique_values\": 50,\n        \"samples\": [\n          37,\n          10,\n          9\n        ],\n        \"semantic_type\": \"\",\n        \"description\": \"\"\n      }\n    }\n  ]\n}"
            }
          },
          "metadata": {},
          "execution_count": 16
        }
      ]
    },
    {
      "cell_type": "code",
      "source": [
        "df.shape"
      ],
      "metadata": {
        "colab": {
          "base_uri": "https://localhost:8080/"
        },
        "id": "fiJ1vNudQ3bd",
        "outputId": "2d878705-21ca-4b64-d1b8-6a8f0713fe98"
      },
      "execution_count": 17,
      "outputs": [
        {
          "output_type": "execute_result",
          "data": {
            "text/plain": [
              "(50000, 4)"
            ]
          },
          "metadata": {},
          "execution_count": 17
        }
      ]
    },
    {
      "cell_type": "code",
      "source": [
        "out = np.array(df)\n",
        "np.var(out)"
      ],
      "metadata": {
        "colab": {
          "base_uri": "https://localhost:8080/"
        },
        "id": "X2263xl6U58s",
        "outputId": "aa69cdae-9555-45b3-d0a0-6d6543068898"
      },
      "execution_count": 18,
      "outputs": [
        {
          "output_type": "execute_result",
          "data": {
            "text/plain": [
              "207.661864906775"
            ]
          },
          "metadata": {},
          "execution_count": 18
        }
      ]
    },
    {
      "cell_type": "code",
      "source": [
        "np.linalg.det(out)"
      ],
      "metadata": {
        "id": "2DBmiSgcVDtj"
      },
      "execution_count": null,
      "outputs": []
    },
    {
      "cell_type": "code",
      "source": [
        "np.correlate([1, 2, 3], [0, 1, 0.5], \"full\")"
      ],
      "metadata": {
        "colab": {
          "base_uri": "https://localhost:8080/"
        },
        "id": "QzNRWzXgV1nJ",
        "outputId": "b9fb9288-abe6-41fc-f3cc-2c913889e762"
      },
      "execution_count": 20,
      "outputs": [
        {
          "output_type": "execute_result",
          "data": {
            "text/plain": [
              "array([0.5, 2. , 3.5, 3. , 0. ])"
            ]
          },
          "metadata": {},
          "execution_count": 20
        }
      ]
    },
    {
      "cell_type": "code",
      "source": [
        "import numpy as np\n",
        "eigenvalues, eigenvectors = np.linalg.eig(np.diag((10, 20, 15)))"
      ],
      "metadata": {
        "id": "mv6ID2qGWZ_6"
      },
      "execution_count": 24,
      "outputs": []
    },
    {
      "cell_type": "code",
      "source": [
        "eigenvectors"
      ],
      "metadata": {
        "colab": {
          "base_uri": "https://localhost:8080/"
        },
        "id": "9wQSvNooWkqL",
        "outputId": "55c1cbee-9069-4dba-d556-ee24d8632732"
      },
      "execution_count": 25,
      "outputs": [
        {
          "output_type": "execute_result",
          "data": {
            "text/plain": [
              "array([[1., 0., 0.],\n",
              "       [0., 1., 0.],\n",
              "       [0., 0., 1.]])"
            ]
          },
          "metadata": {},
          "execution_count": 25
        }
      ]
    },
    {
      "cell_type": "code",
      "source": [
        "eigenvalues"
      ],
      "metadata": {
        "colab": {
          "base_uri": "https://localhost:8080/"
        },
        "id": "xtEEV5EjWjL6",
        "outputId": "2ca13be1-b1f2-4da2-9dad-3c08358684a9"
      },
      "execution_count": 22,
      "outputs": [
        {
          "output_type": "execute_result",
          "data": {
            "text/plain": [
              "array([1., 2., 3.])"
            ]
          },
          "metadata": {},
          "execution_count": 22
        }
      ]
    },
    {
      "cell_type": "markdown",
      "source": [
        "# ***Without Vectorization***"
      ],
      "metadata": {
        "id": "NRYiu2KpMMs-"
      }
    },
    {
      "cell_type": "code",
      "source": [
        "import time\n",
        "start = time.time()\n",
        "\n",
        "# Iterating through DataFrame using iterrows\n",
        "for idx, row in df.iterrows():\n",
        "    # creating a new column\n",
        "    df.at[idx,'ratio'] = 100 * (row[\"d\"] / row[\"c\"]+1)\n",
        "end = time.time()\n",
        "print(end - start)\n",
        "### 325.6 Seconds"
      ],
      "metadata": {
        "id": "f9eSaWddMRHe"
      },
      "execution_count": null,
      "outputs": []
    },
    {
      "cell_type": "markdown",
      "source": [
        "**Vectorization**"
      ],
      "metadata": {
        "id": "5sCNJNwOMhqG"
      }
    },
    {
      "cell_type": "code",
      "source": [
        "start = time.time()\n",
        "df[\"ratio\"] = 100 * (df[\"d\"] / df[\"c\"])\n",
        "\n",
        "end = time.time()\n",
        "print(end - start)\n",
        "### 0.12 seconds"
      ],
      "metadata": {
        "id": "Df3BCofrMhDW"
      },
      "execution_count": null,
      "outputs": []
    },
    {
      "cell_type": "markdown",
      "source": [
        "***ُSolving ML problem***"
      ],
      "metadata": {
        "id": "vv9qAcXEOkng"
      }
    },
    {
      "cell_type": "code",
      "source": [
        "import numpy as np\n",
        "# setting initial values of m\n",
        "m = np.random.rand(1,5)\n",
        "\n",
        "# input values for 5 million rows\n",
        "x = np.random.rand(5000000,5)"
      ],
      "metadata": {
        "id": "8Bij9_LCOclz"
      },
      "execution_count": null,
      "outputs": []
    },
    {
      "cell_type": "markdown",
      "source": [
        "***ٌWithout Vectorization***"
      ],
      "metadata": {
        "id": "ghXRdUK_O9Gn"
      }
    },
    {
      "cell_type": "code",
      "source": [
        "import numpy as np\n",
        "m = np.random.rand(1,5)\n",
        "x = np.random.rand(5000000,5)\n",
        "zer =  np.random.rand(5000000,1)\n",
        "total = 0\n",
        "tic = time.process_time()\n",
        "for i in range(0,5000000):\n",
        "    total = 0\n",
        "    for j in range(0,5):\n",
        "        total = total + x[i][j]*m[0][j]\n",
        "\n",
        "    zer[i] = total\n",
        "toc = time.process_time()\n",
        "print (\"Computation time = \" + str((toc - tic)) + \"seconds\")\n",
        "####Computation time = 24.5 seconds"
      ],
      "metadata": {
        "id": "jr5Mx0HqO5rm"
      },
      "execution_count": null,
      "outputs": []
    },
    {
      "cell_type": "code",
      "source": [
        "tic = time.process_time()\n",
        "\n",
        "#dot product\n",
        "np.dot(x,m.T)\n",
        "toc = time.process_time()\n",
        "print (\"Computation time = \" + str((toc - tic)) + \"seconds\")\n",
        "####Computation time = 0.107 seconds"
      ],
      "metadata": {
        "id": "B9WTKPa4PkJo"
      },
      "execution_count": null,
      "outputs": []
    },
    {
      "cell_type": "markdown",
      "source": [
        "***Broadcasting***"
      ],
      "metadata": {
        "id": "leoIngG_SN5C"
      }
    },
    {
      "cell_type": "code",
      "source": [
        "import numpy as np\n",
        "\n",
        "# Create a NumPy array and add a scalar\n",
        "a = np.array([1, 2, 3, 4])\n",
        "b = 2\n",
        "\n",
        "# Perform broadcasting\n",
        "result = a + b\n",
        "\n",
        "print(result)"
      ],
      "metadata": {
        "id": "2ZXKBO4CSV5w"
      },
      "execution_count": null,
      "outputs": []
    },
    {
      "cell_type": "markdown",
      "source": [
        "# ***Universal Functions (ufuncs)***"
      ],
      "metadata": {
        "id": "x3gP1ezNSd2l"
      }
    },
    {
      "cell_type": "code",
      "source": [
        "import numpy as np\n",
        "\n",
        "# Create a NumPy array\n",
        "a = np.array([1, 2, 3, 4])\n",
        "\n",
        "# Calculate the square of each element\n",
        "result = np.square(a)\n",
        "\n",
        "print(result)"
      ],
      "metadata": {
        "id": "08S-m4MFSbLI"
      },
      "execution_count": null,
      "outputs": []
    },
    {
      "cell_type": "markdown",
      "source": [
        "# ***Vectorized Indexing and Slicing***"
      ],
      "metadata": {
        "id": "MKreVIhgSk4h"
      }
    },
    {
      "cell_type": "code",
      "source": [
        "import numpy as np\n",
        "\n",
        "# Create a NumPy array\n",
        "a = np.array([1, 2, 3, 4, 5])\n",
        "\n",
        "# Use fancy indexing to select specific elements\n",
        "indices = np.array([0, 2, 4])\n",
        "result = a[indices]\n",
        "\n",
        "print(result)"
      ],
      "metadata": {
        "id": "rvtMMAaqSujI"
      },
      "execution_count": null,
      "outputs": []
    },
    {
      "cell_type": "code",
      "source": [
        "import numpy as np\n",
        "\n",
        "# Create a NumPy array\n",
        "a = np.array([1, 2, 3, 4, 5])\n",
        "\n",
        "# Use boolean indexing to filter elements\n",
        "condition = a > 2\n",
        "result = a[condition]\n",
        "\n",
        "print(result)"
      ],
      "metadata": {
        "id": "QvSYA-8eSvpo"
      },
      "execution_count": null,
      "outputs": []
    },
    {
      "cell_type": "markdown",
      "source": [
        "***Conditional Operations***"
      ],
      "metadata": {
        "id": "ESnJecXzT-nK"
      }
    },
    {
      "cell_type": "code",
      "source": [
        "import numpy as np\n",
        "\n",
        "# Create a NumPy array\n",
        "a = np.array([1, 2, 3, 4, 5])\n",
        "\n",
        "# Use np.where to apply a condition\n",
        "result = np.where(a > 4, 'high', 'low')\n",
        "\n",
        "print(result)"
      ],
      "metadata": {
        "colab": {
          "base_uri": "https://localhost:8080/"
        },
        "id": "6nE_jhXLUBOn",
        "outputId": "1849d45a-283d-442a-99e9-58aaf1939729"
      },
      "execution_count": 26,
      "outputs": [
        {
          "output_type": "stream",
          "name": "stdout",
          "text": [
            "['low' 'low' 'low' 'low' 'high']\n"
          ]
        }
      ]
    },
    {
      "cell_type": "markdown",
      "source": [
        "***Custom ufuncs***"
      ],
      "metadata": {
        "id": "G1g9HMcBTG73"
      }
    },
    {
      "cell_type": "code",
      "source": [
        "import numpy as np\n",
        "\n",
        "# Define a custom function\n",
        "def my_func(x):\n",
        "    return x /0.5\n",
        "\n",
        "# Convert the custom function to a ufunc\n",
        "my_ufunc = np.frompyfunc(my_func, 1, 1)\n",
        "\n",
        "# Create a NumPy array\n",
        "a = np.array([1, 2, 3, 4])\n",
        "\n",
        "# Apply the custom ufunc\n",
        "result = my_ufunc(a)\n",
        "\n",
        "print(result)"
      ],
      "metadata": {
        "id": "DDGul9QtTGbJ"
      },
      "execution_count": null,
      "outputs": []
    },
    {
      "cell_type": "code",
      "source": [],
      "metadata": {
        "id": "voBL9V4hTl_v"
      },
      "execution_count": null,
      "outputs": []
    }
  ]
}