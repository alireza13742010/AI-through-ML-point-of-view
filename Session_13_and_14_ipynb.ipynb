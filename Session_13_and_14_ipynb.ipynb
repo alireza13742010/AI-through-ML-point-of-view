{
  "nbformat": 4,
  "nbformat_minor": 0,
  "metadata": {
    "colab": {
      "provenance": []
    },
    "kernelspec": {
      "name": "python3",
      "display_name": "Python 3"
    },
    "language_info": {
      "name": "python"
    }
  },
  "cells": [
    {
      "cell_type": "markdown",
      "source": [
        "# ** Today's agenda:\n",
        "(1) Hyper parameter tuning in our ML project\n",
        "(2) How to use generator functions to load data by chunks?\n",
        "     - When a data file is moderately large and the Python script freezes, what technique should we use??\n",
        "     - Use the LazyPredic Python script as an example\n",
        "(3) We have a random signal. We want to find...\n",
        "   a.  How many times it relaxed?\n",
        "   b. When was the first time it relaxed?\n",
        "   c. When was the last time it relaxed?\n",
        "   d. What is its relaxation time on each occasion?\n",
        "   e. What is its average relaxation time?"
      ],
      "metadata": {
        "id": "PK-m2PFWQre5"
      }
    },
    {
      "cell_type": "code",
      "execution_count": 1,
      "metadata": {
        "colab": {
          "base_uri": "https://localhost:8080/"
        },
        "id": "qc9OxmbMYWBv",
        "outputId": "62d6a47b-8a5f-44f1-d674-e06ca2b6d3e2"
      },
      "outputs": [
        {
          "output_type": "stream",
          "name": "stdout",
          "text": [
            "Mounted at /content/drive\n"
          ]
        }
      ],
      "source": [
        "from google.colab import drive\n",
        "drive.mount('/content/drive')"
      ]
    },
    {
      "cell_type": "code",
      "execution_count": 2,
      "metadata": {
        "id": "gFSMhAifTPd8"
      },
      "outputs": [],
      "source": [
        "import pandas as pd\n",
        "import numpy as np\n",
        "import matplotlib.pyplot as plt"
      ]
    },
    {
      "cell_type": "code",
      "execution_count": 3,
      "metadata": {
        "id": "TdwLcgqpZZPn"
      },
      "outputs": [],
      "source": [
        "data = pd.read_csv('/content/drive/MyDrive/full.regular.txt', delim_whitespace=True)"
      ]
    },
    {
      "cell_type": "code",
      "execution_count": 4,
      "metadata": {
        "colab": {
          "base_uri": "https://localhost:8080/",
          "height": 300
        },
        "id": "0QIdDp7o3_D5",
        "outputId": "b085e275-6ab7-473d-ed53-38512c011153"
      },
      "outputs": [
        {
          "output_type": "execute_result",
          "data": {
            "text/plain": [
              "                  0         0.000       0.000.1       0.000.2             1  \\\n",
              "count  1.079133e+06  1.079133e+06  1.079133e+06  1.079133e+06  1.079133e+06   \n",
              "mean   1.502021e+02  5.965603e+00  7.416875e+00  9.035807e+00  1.504170e-02   \n",
              "std    1.267608e+02  8.436803e-01  2.182458e+00  3.029510e+00  1.221747e-01   \n",
              "min    0.000000e+00  0.000000e+00  0.000000e+00  0.000000e+00  0.000000e+00   \n",
              "25%    5.500000e+01  5.467000e+00  5.278000e+00  6.272000e+00  0.000000e+00   \n",
              "50%    1.180000e+02  5.795000e+00  7.869000e+00  8.905000e+00  0.000000e+00   \n",
              "75%    2.140000e+02  6.563000e+00  9.370000e+00  1.184800e+01  0.000000e+00   \n",
              "max    1.015000e+03  7.826000e+00  1.159000e+01  1.492200e+01  2.000000e+00   \n",
              "\n",
              "                1.1           1.2           1.3           1.4        0.1  \n",
              "count  1.079133e+06  1.079133e+06  1.079133e+06  1.079133e+06  1079133.0  \n",
              "mean   7.553749e-02  2.246748e-01  8.234490e-01  2.491768e+00        0.0  \n",
              "std    2.767069e-01  4.954270e-01  1.201071e+00  2.386876e+00        0.0  \n",
              "min    0.000000e+00  0.000000e+00  0.000000e+00  0.000000e+00        0.0  \n",
              "25%    0.000000e+00  0.000000e+00  0.000000e+00  1.000000e+00        0.0  \n",
              "50%    0.000000e+00  0.000000e+00  0.000000e+00  2.000000e+00        0.0  \n",
              "75%    0.000000e+00  0.000000e+00  1.000000e+00  4.000000e+00        0.0  \n",
              "max    4.000000e+00  6.000000e+00  1.000000e+01  1.800000e+01        0.0  "
            ],
            "text/html": [
              "\n",
              "  <div id=\"df-6f41dd69-eab7-4f44-ac4e-116a03d564b2\" class=\"colab-df-container\">\n",
              "    <div>\n",
              "<style scoped>\n",
              "    .dataframe tbody tr th:only-of-type {\n",
              "        vertical-align: middle;\n",
              "    }\n",
              "\n",
              "    .dataframe tbody tr th {\n",
              "        vertical-align: top;\n",
              "    }\n",
              "\n",
              "    .dataframe thead th {\n",
              "        text-align: right;\n",
              "    }\n",
              "</style>\n",
              "<table border=\"1\" class=\"dataframe\">\n",
              "  <thead>\n",
              "    <tr style=\"text-align: right;\">\n",
              "      <th></th>\n",
              "      <th>0</th>\n",
              "      <th>0.000</th>\n",
              "      <th>0.000.1</th>\n",
              "      <th>0.000.2</th>\n",
              "      <th>1</th>\n",
              "      <th>1.1</th>\n",
              "      <th>1.2</th>\n",
              "      <th>1.3</th>\n",
              "      <th>1.4</th>\n",
              "      <th>0.1</th>\n",
              "    </tr>\n",
              "  </thead>\n",
              "  <tbody>\n",
              "    <tr>\n",
              "      <th>count</th>\n",
              "      <td>1.079133e+06</td>\n",
              "      <td>1.079133e+06</td>\n",
              "      <td>1.079133e+06</td>\n",
              "      <td>1.079133e+06</td>\n",
              "      <td>1.079133e+06</td>\n",
              "      <td>1.079133e+06</td>\n",
              "      <td>1.079133e+06</td>\n",
              "      <td>1.079133e+06</td>\n",
              "      <td>1.079133e+06</td>\n",
              "      <td>1079133.0</td>\n",
              "    </tr>\n",
              "    <tr>\n",
              "      <th>mean</th>\n",
              "      <td>1.502021e+02</td>\n",
              "      <td>5.965603e+00</td>\n",
              "      <td>7.416875e+00</td>\n",
              "      <td>9.035807e+00</td>\n",
              "      <td>1.504170e-02</td>\n",
              "      <td>7.553749e-02</td>\n",
              "      <td>2.246748e-01</td>\n",
              "      <td>8.234490e-01</td>\n",
              "      <td>2.491768e+00</td>\n",
              "      <td>0.0</td>\n",
              "    </tr>\n",
              "    <tr>\n",
              "      <th>std</th>\n",
              "      <td>1.267608e+02</td>\n",
              "      <td>8.436803e-01</td>\n",
              "      <td>2.182458e+00</td>\n",
              "      <td>3.029510e+00</td>\n",
              "      <td>1.221747e-01</td>\n",
              "      <td>2.767069e-01</td>\n",
              "      <td>4.954270e-01</td>\n",
              "      <td>1.201071e+00</td>\n",
              "      <td>2.386876e+00</td>\n",
              "      <td>0.0</td>\n",
              "    </tr>\n",
              "    <tr>\n",
              "      <th>min</th>\n",
              "      <td>0.000000e+00</td>\n",
              "      <td>0.000000e+00</td>\n",
              "      <td>0.000000e+00</td>\n",
              "      <td>0.000000e+00</td>\n",
              "      <td>0.000000e+00</td>\n",
              "      <td>0.000000e+00</td>\n",
              "      <td>0.000000e+00</td>\n",
              "      <td>0.000000e+00</td>\n",
              "      <td>0.000000e+00</td>\n",
              "      <td>0.0</td>\n",
              "    </tr>\n",
              "    <tr>\n",
              "      <th>25%</th>\n",
              "      <td>5.500000e+01</td>\n",
              "      <td>5.467000e+00</td>\n",
              "      <td>5.278000e+00</td>\n",
              "      <td>6.272000e+00</td>\n",
              "      <td>0.000000e+00</td>\n",
              "      <td>0.000000e+00</td>\n",
              "      <td>0.000000e+00</td>\n",
              "      <td>0.000000e+00</td>\n",
              "      <td>1.000000e+00</td>\n",
              "      <td>0.0</td>\n",
              "    </tr>\n",
              "    <tr>\n",
              "      <th>50%</th>\n",
              "      <td>1.180000e+02</td>\n",
              "      <td>5.795000e+00</td>\n",
              "      <td>7.869000e+00</td>\n",
              "      <td>8.905000e+00</td>\n",
              "      <td>0.000000e+00</td>\n",
              "      <td>0.000000e+00</td>\n",
              "      <td>0.000000e+00</td>\n",
              "      <td>0.000000e+00</td>\n",
              "      <td>2.000000e+00</td>\n",
              "      <td>0.0</td>\n",
              "    </tr>\n",
              "    <tr>\n",
              "      <th>75%</th>\n",
              "      <td>2.140000e+02</td>\n",
              "      <td>6.563000e+00</td>\n",
              "      <td>9.370000e+00</td>\n",
              "      <td>1.184800e+01</td>\n",
              "      <td>0.000000e+00</td>\n",
              "      <td>0.000000e+00</td>\n",
              "      <td>0.000000e+00</td>\n",
              "      <td>1.000000e+00</td>\n",
              "      <td>4.000000e+00</td>\n",
              "      <td>0.0</td>\n",
              "    </tr>\n",
              "    <tr>\n",
              "      <th>max</th>\n",
              "      <td>1.015000e+03</td>\n",
              "      <td>7.826000e+00</td>\n",
              "      <td>1.159000e+01</td>\n",
              "      <td>1.492200e+01</td>\n",
              "      <td>2.000000e+00</td>\n",
              "      <td>4.000000e+00</td>\n",
              "      <td>6.000000e+00</td>\n",
              "      <td>1.000000e+01</td>\n",
              "      <td>1.800000e+01</td>\n",
              "      <td>0.0</td>\n",
              "    </tr>\n",
              "  </tbody>\n",
              "</table>\n",
              "</div>\n",
              "    <div class=\"colab-df-buttons\">\n",
              "\n",
              "  <div class=\"colab-df-container\">\n",
              "    <button class=\"colab-df-convert\" onclick=\"convertToInteractive('df-6f41dd69-eab7-4f44-ac4e-116a03d564b2')\"\n",
              "            title=\"Convert this dataframe to an interactive table.\"\n",
              "            style=\"display:none;\">\n",
              "\n",
              "  <svg xmlns=\"http://www.w3.org/2000/svg\" height=\"24px\" viewBox=\"0 -960 960 960\">\n",
              "    <path d=\"M120-120v-720h720v720H120Zm60-500h600v-160H180v160Zm220 220h160v-160H400v160Zm0 220h160v-160H400v160ZM180-400h160v-160H180v160Zm440 0h160v-160H620v160ZM180-180h160v-160H180v160Zm440 0h160v-160H620v160Z\"/>\n",
              "  </svg>\n",
              "    </button>\n",
              "\n",
              "  <style>\n",
              "    .colab-df-container {\n",
              "      display:flex;\n",
              "      gap: 12px;\n",
              "    }\n",
              "\n",
              "    .colab-df-convert {\n",
              "      background-color: #E8F0FE;\n",
              "      border: none;\n",
              "      border-radius: 50%;\n",
              "      cursor: pointer;\n",
              "      display: none;\n",
              "      fill: #1967D2;\n",
              "      height: 32px;\n",
              "      padding: 0 0 0 0;\n",
              "      width: 32px;\n",
              "    }\n",
              "\n",
              "    .colab-df-convert:hover {\n",
              "      background-color: #E2EBFA;\n",
              "      box-shadow: 0px 1px 2px rgba(60, 64, 67, 0.3), 0px 1px 3px 1px rgba(60, 64, 67, 0.15);\n",
              "      fill: #174EA6;\n",
              "    }\n",
              "\n",
              "    .colab-df-buttons div {\n",
              "      margin-bottom: 4px;\n",
              "    }\n",
              "\n",
              "    [theme=dark] .colab-df-convert {\n",
              "      background-color: #3B4455;\n",
              "      fill: #D2E3FC;\n",
              "    }\n",
              "\n",
              "    [theme=dark] .colab-df-convert:hover {\n",
              "      background-color: #434B5C;\n",
              "      box-shadow: 0px 1px 3px 1px rgba(0, 0, 0, 0.15);\n",
              "      filter: drop-shadow(0px 1px 2px rgba(0, 0, 0, 0.3));\n",
              "      fill: #FFFFFF;\n",
              "    }\n",
              "  </style>\n",
              "\n",
              "    <script>\n",
              "      const buttonEl =\n",
              "        document.querySelector('#df-6f41dd69-eab7-4f44-ac4e-116a03d564b2 button.colab-df-convert');\n",
              "      buttonEl.style.display =\n",
              "        google.colab.kernel.accessAllowed ? 'block' : 'none';\n",
              "\n",
              "      async function convertToInteractive(key) {\n",
              "        const element = document.querySelector('#df-6f41dd69-eab7-4f44-ac4e-116a03d564b2');\n",
              "        const dataTable =\n",
              "          await google.colab.kernel.invokeFunction('convertToInteractive',\n",
              "                                                    [key], {});\n",
              "        if (!dataTable) return;\n",
              "\n",
              "        const docLinkHtml = 'Like what you see? Visit the ' +\n",
              "          '<a target=\"_blank\" href=https://colab.research.google.com/notebooks/data_table.ipynb>data table notebook</a>'\n",
              "          + ' to learn more about interactive tables.';\n",
              "        element.innerHTML = '';\n",
              "        dataTable['output_type'] = 'display_data';\n",
              "        await google.colab.output.renderOutput(dataTable, element);\n",
              "        const docLink = document.createElement('div');\n",
              "        docLink.innerHTML = docLinkHtml;\n",
              "        element.appendChild(docLink);\n",
              "      }\n",
              "    </script>\n",
              "  </div>\n",
              "\n",
              "\n",
              "<div id=\"df-438591b6-56a8-4d01-b3df-30f9e0ef9df0\">\n",
              "  <button class=\"colab-df-quickchart\" onclick=\"quickchart('df-438591b6-56a8-4d01-b3df-30f9e0ef9df0')\"\n",
              "            title=\"Suggest charts\"\n",
              "            style=\"display:none;\">\n",
              "\n",
              "<svg xmlns=\"http://www.w3.org/2000/svg\" height=\"24px\"viewBox=\"0 0 24 24\"\n",
              "     width=\"24px\">\n",
              "    <g>\n",
              "        <path d=\"M19 3H5c-1.1 0-2 .9-2 2v14c0 1.1.9 2 2 2h14c1.1 0 2-.9 2-2V5c0-1.1-.9-2-2-2zM9 17H7v-7h2v7zm4 0h-2V7h2v10zm4 0h-2v-4h2v4z\"/>\n",
              "    </g>\n",
              "</svg>\n",
              "  </button>\n",
              "\n",
              "<style>\n",
              "  .colab-df-quickchart {\n",
              "      --bg-color: #E8F0FE;\n",
              "      --fill-color: #1967D2;\n",
              "      --hover-bg-color: #E2EBFA;\n",
              "      --hover-fill-color: #174EA6;\n",
              "      --disabled-fill-color: #AAA;\n",
              "      --disabled-bg-color: #DDD;\n",
              "  }\n",
              "\n",
              "  [theme=dark] .colab-df-quickchart {\n",
              "      --bg-color: #3B4455;\n",
              "      --fill-color: #D2E3FC;\n",
              "      --hover-bg-color: #434B5C;\n",
              "      --hover-fill-color: #FFFFFF;\n",
              "      --disabled-bg-color: #3B4455;\n",
              "      --disabled-fill-color: #666;\n",
              "  }\n",
              "\n",
              "  .colab-df-quickchart {\n",
              "    background-color: var(--bg-color);\n",
              "    border: none;\n",
              "    border-radius: 50%;\n",
              "    cursor: pointer;\n",
              "    display: none;\n",
              "    fill: var(--fill-color);\n",
              "    height: 32px;\n",
              "    padding: 0;\n",
              "    width: 32px;\n",
              "  }\n",
              "\n",
              "  .colab-df-quickchart:hover {\n",
              "    background-color: var(--hover-bg-color);\n",
              "    box-shadow: 0 1px 2px rgba(60, 64, 67, 0.3), 0 1px 3px 1px rgba(60, 64, 67, 0.15);\n",
              "    fill: var(--button-hover-fill-color);\n",
              "  }\n",
              "\n",
              "  .colab-df-quickchart-complete:disabled,\n",
              "  .colab-df-quickchart-complete:disabled:hover {\n",
              "    background-color: var(--disabled-bg-color);\n",
              "    fill: var(--disabled-fill-color);\n",
              "    box-shadow: none;\n",
              "  }\n",
              "\n",
              "  .colab-df-spinner {\n",
              "    border: 2px solid var(--fill-color);\n",
              "    border-color: transparent;\n",
              "    border-bottom-color: var(--fill-color);\n",
              "    animation:\n",
              "      spin 1s steps(1) infinite;\n",
              "  }\n",
              "\n",
              "  @keyframes spin {\n",
              "    0% {\n",
              "      border-color: transparent;\n",
              "      border-bottom-color: var(--fill-color);\n",
              "      border-left-color: var(--fill-color);\n",
              "    }\n",
              "    20% {\n",
              "      border-color: transparent;\n",
              "      border-left-color: var(--fill-color);\n",
              "      border-top-color: var(--fill-color);\n",
              "    }\n",
              "    30% {\n",
              "      border-color: transparent;\n",
              "      border-left-color: var(--fill-color);\n",
              "      border-top-color: var(--fill-color);\n",
              "      border-right-color: var(--fill-color);\n",
              "    }\n",
              "    40% {\n",
              "      border-color: transparent;\n",
              "      border-right-color: var(--fill-color);\n",
              "      border-top-color: var(--fill-color);\n",
              "    }\n",
              "    60% {\n",
              "      border-color: transparent;\n",
              "      border-right-color: var(--fill-color);\n",
              "    }\n",
              "    80% {\n",
              "      border-color: transparent;\n",
              "      border-right-color: var(--fill-color);\n",
              "      border-bottom-color: var(--fill-color);\n",
              "    }\n",
              "    90% {\n",
              "      border-color: transparent;\n",
              "      border-bottom-color: var(--fill-color);\n",
              "    }\n",
              "  }\n",
              "</style>\n",
              "\n",
              "  <script>\n",
              "    async function quickchart(key) {\n",
              "      const quickchartButtonEl =\n",
              "        document.querySelector('#' + key + ' button');\n",
              "      quickchartButtonEl.disabled = true;  // To prevent multiple clicks.\n",
              "      quickchartButtonEl.classList.add('colab-df-spinner');\n",
              "      try {\n",
              "        const charts = await google.colab.kernel.invokeFunction(\n",
              "            'suggestCharts', [key], {});\n",
              "      } catch (error) {\n",
              "        console.error('Error during call to suggestCharts:', error);\n",
              "      }\n",
              "      quickchartButtonEl.classList.remove('colab-df-spinner');\n",
              "      quickchartButtonEl.classList.add('colab-df-quickchart-complete');\n",
              "    }\n",
              "    (() => {\n",
              "      let quickchartButtonEl =\n",
              "        document.querySelector('#df-438591b6-56a8-4d01-b3df-30f9e0ef9df0 button');\n",
              "      quickchartButtonEl.style.display =\n",
              "        google.colab.kernel.accessAllowed ? 'block' : 'none';\n",
              "    })();\n",
              "  </script>\n",
              "</div>\n",
              "    </div>\n",
              "  </div>\n"
            ],
            "application/vnd.google.colaboratory.intrinsic+json": {
              "type": "dataframe",
              "summary": "{\n  \"name\": \"data\",\n  \"rows\": 8,\n  \"fields\": [\n    {\n      \"column\": \"0\",\n      \"properties\": {\n        \"dtype\": \"number\",\n        \"std\": 381446.4671116223,\n        \"min\": 0.0,\n        \"max\": 1079133.0,\n        \"num_unique_values\": 8,\n        \"samples\": [\n          150.20210020451603,\n          118.0,\n          1079133.0\n        ],\n        \"semantic_type\": \"\",\n        \"description\": \"\"\n      }\n    },\n    {\n      \"column\": \"0.000\",\n      \"properties\": {\n        \"dtype\": \"number\",\n        \"std\": 381529.4915692036,\n        \"min\": 0.0,\n        \"max\": 1079133.0,\n        \"num_unique_values\": 8,\n        \"samples\": [\n          5.965603496510627,\n          5.795,\n          1079133.0\n        ],\n        \"semantic_type\": \"\",\n        \"description\": \"\"\n      }\n    },\n    {\n      \"column\": \"0.000.1\",\n      \"properties\": {\n        \"dtype\": \"number\",\n        \"std\": 381528.92356644507,\n        \"min\": 0.0,\n        \"max\": 1079133.0,\n        \"num_unique_values\": 8,\n        \"samples\": [\n          7.416874801345156,\n          7.869,\n          1079133.0\n        ],\n        \"semantic_type\": \"\",\n        \"description\": \"\"\n      }\n    },\n    {\n      \"column\": \"0.000.2\",\n      \"properties\": {\n        \"dtype\": \"number\",\n        \"std\": 381528.40304626024,\n        \"min\": 0.0,\n        \"max\": 1079133.0,\n        \"num_unique_values\": 8,\n        \"samples\": [\n          9.035807114600335,\n          8.905,\n          1079133.0\n        ],\n        \"semantic_type\": \"\",\n        \"description\": \"\"\n      }\n    },\n    {\n      \"column\": \"1\",\n      \"properties\": {\n        \"dtype\": \"number\",\n        \"std\": 381531.02310598956,\n        \"min\": 0.0,\n        \"max\": 1079133.0,\n        \"num_unique_values\": 5,\n        \"samples\": [\n          0.015041704775963668,\n          2.0,\n          0.12217473595548695\n        ],\n        \"semantic_type\": \"\",\n        \"description\": \"\"\n      }\n    },\n    {\n      \"column\": \"1.1\",\n      \"properties\": {\n        \"dtype\": \"number\",\n        \"std\": 381530.9112320603,\n        \"min\": 0.0,\n        \"max\": 1079133.0,\n        \"num_unique_values\": 5,\n        \"samples\": [\n          0.07553749167155485,\n          4.0,\n          0.2767068599487931\n        ],\n        \"semantic_type\": \"\",\n        \"description\": \"\"\n      }\n    },\n    {\n      \"column\": \"1.2\",\n      \"properties\": {\n        \"dtype\": \"number\",\n        \"std\": 381530.79164028174,\n        \"min\": 0.0,\n        \"max\": 1079133.0,\n        \"num_unique_values\": 5,\n        \"samples\": [\n          0.22467480838784468,\n          6.0,\n          0.49542699764296844\n        ],\n        \"semantic_type\": \"\",\n        \"description\": \"\"\n      }\n    },\n    {\n      \"column\": \"1.3\",\n      \"properties\": {\n        \"dtype\": \"number\",\n        \"std\": 381530.473228258,\n        \"min\": 0.0,\n        \"max\": 1079133.0,\n        \"num_unique_values\": 6,\n        \"samples\": [\n          1079133.0,\n          0.823449009528946,\n          10.0\n        ],\n        \"semantic_type\": \"\",\n        \"description\": \"\"\n      }\n    },\n    {\n      \"column\": \"1.4\",\n      \"properties\": {\n        \"dtype\": \"number\",\n        \"std\": 381529.62199464295,\n        \"min\": 0.0,\n        \"max\": 1079133.0,\n        \"num_unique_values\": 8,\n        \"samples\": [\n          2.4917679285129823,\n          2.0,\n          1079133.0\n        ],\n        \"semantic_type\": \"\",\n        \"description\": \"\"\n      }\n    },\n    {\n      \"column\": \"0.1\",\n      \"properties\": {\n        \"dtype\": \"number\",\n        \"std\": 381531.1310510913,\n        \"min\": 0.0,\n        \"max\": 1079133.0,\n        \"num_unique_values\": 2,\n        \"samples\": [\n          0.0,\n          1079133.0\n        ],\n        \"semantic_type\": \"\",\n        \"description\": \"\"\n      }\n    }\n  ]\n}"
            }
          },
          "metadata": {},
          "execution_count": 4
        }
      ],
      "source": [
        "data.describe()"
      ]
    },
    {
      "cell_type": "code",
      "execution_count": 5,
      "metadata": {
        "id": "MUEPuhu0sclU"
      },
      "outputs": [],
      "source": [
        "y = data.iloc[:, 2]\n",
        "X = data.iloc[:, 3:11]"
      ]
    },
    {
      "cell_type": "code",
      "source": [
        "print(X.shape)"
      ],
      "metadata": {
        "colab": {
          "base_uri": "https://localhost:8080/"
        },
        "id": "SGrBmHOeR8Jp",
        "outputId": "b40cc421-bdae-4ea1-f290-7c2f5044bfb2"
      },
      "execution_count": 11,
      "outputs": [
        {
          "output_type": "stream",
          "name": "stdout",
          "text": [
            "(1079133, 8)\n"
          ]
        }
      ]
    },
    {
      "cell_type": "code",
      "execution_count": 8,
      "metadata": {
        "id": "X5Xq4qECeQp6"
      },
      "outputs": [],
      "source": [
        "X_samll = X.iloc[0:,0:]\n",
        "y_samll = y.iloc[0:]"
      ]
    },
    {
      "cell_type": "code",
      "execution_count": 9,
      "metadata": {
        "colab": {
          "base_uri": "https://localhost:8080/"
        },
        "id": "d7BFAOkv5ygW",
        "outputId": "c6748923-d928-4eff-b692-a22f6757b791"
      },
      "outputs": [
        {
          "output_type": "execute_result",
          "data": {
            "text/plain": [
              "C\n",
              "H    459325\n",
              "C    377953\n",
              "E    241855\n",
              "Name: count, dtype: int64"
            ]
          },
          "metadata": {},
          "execution_count": 9
        }
      ],
      "source": [
        "y.value_counts()"
      ]
    },
    {
      "cell_type": "code",
      "execution_count": 10,
      "metadata": {
        "id": "CQCupFmK5tHF"
      },
      "outputs": [],
      "source": [
        "target_encoding = []\n",
        "for x in y_samll:\n",
        "  if x == \"H\":\n",
        "    target_encoding.append(0)\n",
        "  elif x == \"C\":\n",
        "    target_encoding.append(1)\n",
        "  else:\n",
        "      target_encoding.append(2)\n",
        "target_encoding = np.array(target_encoding)"
      ]
    },
    {
      "cell_type": "code",
      "execution_count": 12,
      "metadata": {
        "id": "xAkX0xSIQl5a"
      },
      "outputs": [],
      "source": [
        "from imblearn.under_sampling import NearMiss\n",
        "nm1 = NearMiss(version=1)\n",
        "X_resampled_nm1, y_resampled = nm1.fit_resample(X, target_encoding)"
      ]
    },
    {
      "cell_type": "code",
      "source": [
        "from imblearn.under_sampling import NearMiss\n",
        "nm1 = NearMiss(version=1)\n",
        "X_resampled_nm1, y_resampled = nm1.fit_resample(X, target_encoding)"
      ],
      "metadata": {
        "id": "N7joJcVlSZSV"
      },
      "execution_count": null,
      "outputs": []
    },
    {
      "cell_type": "code",
      "source": [
        "print(X_resampled_nm1.shape)\n",
        "print(y_resampled.shape)"
      ],
      "metadata": {
        "colab": {
          "base_uri": "https://localhost:8080/"
        },
        "id": "GeGm0yAySCoq",
        "outputId": "ea5cbbbb-5682-40cb-80ef-e768bcc03a2b"
      },
      "execution_count": 13,
      "outputs": [
        {
          "output_type": "stream",
          "name": "stdout",
          "text": [
            "(725565, 8)\n",
            "(725565,)\n"
          ]
        }
      ]
    },
    {
      "cell_type": "code",
      "source": [
        "from imblearn.under_sampling import RandomUnderSampler\n",
        "rus = RandomUnderSampler(random_state=0)\n",
        "X_rus_resampled, y_rus_resampled = rus.fit_resample(X_resampled_nm1, y_resampled)"
      ],
      "metadata": {
        "id": "H4uLnXUSSmz6"
      },
      "execution_count": 14,
      "outputs": []
    },
    {
      "cell_type": "code",
      "source": [
        "print(X_rus_resampled.shape)\n",
        "print(y_rus_resampled.shape)"
      ],
      "metadata": {
        "colab": {
          "base_uri": "https://localhost:8080/"
        },
        "id": "8UYc6YlWSwm4",
        "outputId": "1cf6a483-8a35-4d78-abcf-2a84459d02ae"
      },
      "execution_count": 15,
      "outputs": [
        {
          "output_type": "stream",
          "name": "stdout",
          "text": [
            "(725565, 8)\n",
            "(725565,)\n"
          ]
        }
      ]
    },
    {
      "cell_type": "code",
      "source": [
        "def chunck_generation(x_i,y_i, segmentation):\n",
        "  for i in range(segmentation):\n",
        "    X = x_i[0:int((x_i.shape[0])/segmentation)]\n",
        "    Y = y_i[0:int((y_i.shape[0])/segmentation)]\n",
        "  return   X, Y\n"
      ],
      "metadata": {
        "id": "s5Hv1CWxSz40"
      },
      "execution_count": 36,
      "outputs": []
    },
    {
      "cell_type": "code",
      "source": [
        "X_chunck_out,y_chunck_out  = chunck_generation(X_samll,y_samll, 100)"
      ],
      "metadata": {
        "id": "zzVGUUhlTzLX"
      },
      "execution_count": 37,
      "outputs": []
    },
    {
      "cell_type": "code",
      "source": [
        "X_chunck_out.shape"
      ],
      "metadata": {
        "colab": {
          "base_uri": "https://localhost:8080/"
        },
        "id": "D74VlxdqUdcf",
        "outputId": "bf8d753c-2ffd-4a0c-8ddd-dcb1383366fa"
      },
      "execution_count": 38,
      "outputs": [
        {
          "output_type": "execute_result",
          "data": {
            "text/plain": [
              "(10791, 8)"
            ]
          },
          "metadata": {},
          "execution_count": 38
        }
      ]
    },
    {
      "cell_type": "code",
      "source": [
        "y_chunck_out.shape"
      ],
      "metadata": {
        "colab": {
          "base_uri": "https://localhost:8080/"
        },
        "id": "b7tI-VHiVGOE",
        "outputId": "08b8b031-66a4-44e4-90e6-2d33d32ba083"
      },
      "execution_count": 39,
      "outputs": [
        {
          "output_type": "execute_result",
          "data": {
            "text/plain": [
              "(10791,)"
            ]
          },
          "metadata": {},
          "execution_count": 39
        }
      ]
    },
    {
      "cell_type": "code",
      "source": [
        "!pip install lazypredict"
      ],
      "metadata": {
        "colab": {
          "base_uri": "https://localhost:8080/"
        },
        "id": "IjI5p9pcUjXO",
        "outputId": "b688acec-8437-4279-cd52-f8a7aa690e02"
      },
      "execution_count": 32,
      "outputs": [
        {
          "output_type": "stream",
          "name": "stdout",
          "text": [
            "Collecting lazypredict\n",
            "  Downloading lazypredict-0.2.12-py2.py3-none-any.whl (12 kB)\n",
            "Requirement already satisfied: click in /usr/local/lib/python3.10/dist-packages (from lazypredict) (8.1.7)\n",
            "Requirement already satisfied: scikit-learn in /usr/local/lib/python3.10/dist-packages (from lazypredict) (1.2.2)\n",
            "Requirement already satisfied: pandas in /usr/local/lib/python3.10/dist-packages (from lazypredict) (2.0.3)\n",
            "Requirement already satisfied: tqdm in /usr/local/lib/python3.10/dist-packages (from lazypredict) (4.66.4)\n",
            "Requirement already satisfied: joblib in /usr/local/lib/python3.10/dist-packages (from lazypredict) (1.4.2)\n",
            "Requirement already satisfied: lightgbm in /usr/local/lib/python3.10/dist-packages (from lazypredict) (4.1.0)\n",
            "Requirement already satisfied: xgboost in /usr/local/lib/python3.10/dist-packages (from lazypredict) (2.0.3)\n",
            "Requirement already satisfied: numpy in /usr/local/lib/python3.10/dist-packages (from lightgbm->lazypredict) (1.25.2)\n",
            "Requirement already satisfied: scipy in /usr/local/lib/python3.10/dist-packages (from lightgbm->lazypredict) (1.11.4)\n",
            "Requirement already satisfied: python-dateutil>=2.8.2 in /usr/local/lib/python3.10/dist-packages (from pandas->lazypredict) (2.8.2)\n",
            "Requirement already satisfied: pytz>=2020.1 in /usr/local/lib/python3.10/dist-packages (from pandas->lazypredict) (2023.4)\n",
            "Requirement already satisfied: tzdata>=2022.1 in /usr/local/lib/python3.10/dist-packages (from pandas->lazypredict) (2024.1)\n",
            "Requirement already satisfied: threadpoolctl>=2.0.0 in /usr/local/lib/python3.10/dist-packages (from scikit-learn->lazypredict) (3.5.0)\n",
            "Requirement already satisfied: six>=1.5 in /usr/local/lib/python3.10/dist-packages (from python-dateutil>=2.8.2->pandas->lazypredict) (1.16.0)\n",
            "Installing collected packages: lazypredict\n",
            "Successfully installed lazypredict-0.2.12\n"
          ]
        }
      ]
    },
    {
      "cell_type": "code",
      "source": [
        "from sklearn.model_selection import train_test_split"
      ],
      "metadata": {
        "id": "ERsveen0VV9l"
      },
      "execution_count": 40,
      "outputs": []
    },
    {
      "cell_type": "code",
      "source": [
        "from lazypredict.Supervised import LazyClassifier\n",
        "X_train, X_test, y_train, y_test = train_test_split(X_chunck_out, y_chunck_out,test_size=.3,random_state =123)\n",
        "\n",
        "clf = LazyClassifier(verbose=0,ignore_warnings=True, custom_metric=None)\n",
        "models,predictions = clf.fit(X_train, X_test, y_train, y_test)"
      ],
      "metadata": {
        "colab": {
          "base_uri": "https://localhost:8080/"
        },
        "id": "VrYqsApNVMr7",
        "outputId": "c5bed000-d80a-4ae0-b8ab-f522cf100625"
      },
      "execution_count": 41,
      "outputs": [
        {
          "output_type": "stream",
          "name": "stderr",
          "text": [
            " 90%|████████▉ | 26/29 [00:30<00:03,  1.09s/it]"
          ]
        },
        {
          "output_type": "stream",
          "name": "stdout",
          "text": [
            "[LightGBM] [Info] Auto-choosing row-wise multi-threading, the overhead of testing was 0.001451 seconds.\n",
            "You can set `force_row_wise=true` to remove the overhead.\n",
            "And if memory is not enough, you can set `force_col_wise=true`.\n",
            "[LightGBM] [Info] Total Bins 807\n",
            "[LightGBM] [Info] Number of data points in the train set: 7553, number of used features: 8\n",
            "[LightGBM] [Info] Start training from score -1.039118\n",
            "[LightGBM] [Info] Start training from score -1.507326\n",
            "[LightGBM] [Info] Start training from score -0.856297\n"
          ]
        },
        {
          "output_type": "stream",
          "name": "stderr",
          "text": [
            "100%|██████████| 29/29 [00:31<00:00,  1.07s/it]\n"
          ]
        }
      ]
    },
    {
      "cell_type": "code",
      "source": [
        "print(models)"
      ],
      "metadata": {
        "colab": {
          "base_uri": "https://localhost:8080/"
        },
        "id": "WibND8RrVcsC",
        "outputId": "d56befdf-a4fb-4e9b-a50f-b9b3978f130e"
      },
      "execution_count": 42,
      "outputs": [
        {
          "output_type": "stream",
          "name": "stdout",
          "text": [
            "                               Accuracy  Balanced Accuracy ROC AUC  F1 Score  \\\n",
            "Model                                                                          \n",
            "RandomForestClassifier             0.79               0.79    None      0.79   \n",
            "LGBMClassifier                     0.79               0.79    None      0.79   \n",
            "ExtraTreesClassifier               0.78               0.78    None      0.78   \n",
            "SVC                                0.77               0.76    None      0.77   \n",
            "KNeighborsClassifier               0.76               0.76    None      0.76   \n",
            "LabelSpreading                     0.76               0.75    None      0.76   \n",
            "BaggingClassifier                  0.76               0.75    None      0.77   \n",
            "LabelPropagation                   0.76               0.75    None      0.76   \n",
            "NuSVC                              0.75               0.75    None      0.75   \n",
            "AdaBoostClassifier                 0.75               0.74    None      0.75   \n",
            "LogisticRegression                 0.74               0.74    None      0.74   \n",
            "LinearDiscriminantAnalysis         0.73               0.72    None      0.73   \n",
            "SGDClassifier                      0.71               0.72    None      0.70   \n",
            "CalibratedClassifierCV             0.72               0.72    None      0.71   \n",
            "LinearSVC                          0.71               0.71    None      0.70   \n",
            "Perceptron                         0.70               0.71    None      0.69   \n",
            "DecisionTreeClassifier             0.71               0.70    None      0.71   \n",
            "GaussianNB                         0.67               0.69    None      0.65   \n",
            "ExtraTreeClassifier                0.69               0.69    None      0.69   \n",
            "QuadraticDiscriminantAnalysis      0.67               0.68    None      0.65   \n",
            "NearestCentroid                    0.69               0.68    None      0.68   \n",
            "RidgeClassifier                    0.69               0.68    None      0.68   \n",
            "RidgeClassifierCV                  0.69               0.68    None      0.68   \n",
            "BernoulliNB                        0.67               0.66    None      0.66   \n",
            "PassiveAggressiveClassifier        0.64               0.62    None      0.61   \n",
            "DummyClassifier                    0.43               0.33    None      0.26   \n",
            "\n",
            "                               Time Taken  \n",
            "Model                                      \n",
            "RandomForestClassifier               1.91  \n",
            "LGBMClassifier                       0.54  \n",
            "ExtraTreesClassifier                 1.38  \n",
            "SVC                                  2.42  \n",
            "KNeighborsClassifier                 0.61  \n",
            "LabelSpreading                       5.17  \n",
            "BaggingClassifier                    0.62  \n",
            "LabelPropagation                     3.79  \n",
            "NuSVC                                4.99  \n",
            "AdaBoostClassifier                   1.71  \n",
            "LogisticRegression                   0.13  \n",
            "LinearDiscriminantAnalysis           0.15  \n",
            "SGDClassifier                        0.17  \n",
            "CalibratedClassifierCV               4.68  \n",
            "LinearSVC                            1.27  \n",
            "Perceptron                           0.13  \n",
            "DecisionTreeClassifier               0.14  \n",
            "GaussianNB                           0.09  \n",
            "ExtraTreeClassifier                  0.14  \n",
            "QuadraticDiscriminantAnalysis        0.21  \n",
            "NearestCentroid                      0.07  \n",
            "RidgeClassifier                      0.13  \n",
            "RidgeClassifierCV                    0.23  \n",
            "BernoulliNB                          0.11  \n",
            "PassiveAggressiveClassifier          0.11  \n",
            "DummyClassifier                      0.07  \n"
          ]
        }
      ]
    }
  ]
}