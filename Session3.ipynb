{
  "nbformat": 4,
  "nbformat_minor": 0,
  "metadata": {
    "colab": {
      "provenance": [],
      "gpuType": "T4"
    },
    "kernelspec": {
      "name": "python3",
      "display_name": "Python 3"
    },
    "language_info": {
      "name": "python"
    },
    "accelerator": "GPU"
  },
  "cells": [
    {
      "cell_type": "code",
      "execution_count": 1,
      "metadata": {
        "id": "ePKHB0sJ29oa"
      },
      "outputs": [],
      "source": [
        "# Load the data from full.regular.txt\n",
        "import numpy as np\n",
        "from sklearn.model_selection import train_test_split\n",
        "import pandas as pd\n",
        "data = pd.read_csv('/content/drive/MyDrive/full.regular.txt', delim_whitespace=True)"
      ]
    },
    {
      "cell_type": "code",
      "source": [
        "data.isnull().sum()"
      ],
      "metadata": {
        "colab": {
          "base_uri": "https://localhost:8080/"
        },
        "id": "F9q8Ro-s30uK",
        "outputId": "8027ba35-8482-4a47-8c8a-c83640c05e96"
      },
      "execution_count": 2,
      "outputs": [
        {
          "output_type": "execute_result",
          "data": {
            "text/plain": [
              "0          0\n",
              "GLN        0\n",
              "C          0\n",
              "0.000      0\n",
              "0.000.1    0\n",
              "0.000.2    0\n",
              "1          0\n",
              "1.1        0\n",
              "1.2        0\n",
              "1.3        0\n",
              "1.4        0\n",
              "0.1        0\n",
              "dtype: int64"
            ]
          },
          "metadata": {},
          "execution_count": 2
        }
      ]
    },
    {
      "cell_type": "code",
      "source": [
        "data.describe()"
      ],
      "metadata": {
        "colab": {
          "base_uri": "https://localhost:8080/",
          "height": 300
        },
        "id": "0QIdDp7o3_D5",
        "outputId": "38fa8fd9-967a-4e83-cf32-c7e182a4b539"
      },
      "execution_count": 3,
      "outputs": [
        {
          "output_type": "execute_result",
          "data": {
            "text/plain": [
              "                  0         0.000       0.000.1       0.000.2             1  \\\n",
              "count  1.079133e+06  1.079133e+06  1.079133e+06  1.079133e+06  1.079133e+06   \n",
              "mean   1.502021e+02  5.965603e+00  7.416875e+00  9.035807e+00  1.504170e-02   \n",
              "std    1.267608e+02  8.436803e-01  2.182458e+00  3.029510e+00  1.221747e-01   \n",
              "min    0.000000e+00  0.000000e+00  0.000000e+00  0.000000e+00  0.000000e+00   \n",
              "25%    5.500000e+01  5.467000e+00  5.278000e+00  6.272000e+00  0.000000e+00   \n",
              "50%    1.180000e+02  5.795000e+00  7.869000e+00  8.905000e+00  0.000000e+00   \n",
              "75%    2.140000e+02  6.563000e+00  9.370000e+00  1.184800e+01  0.000000e+00   \n",
              "max    1.015000e+03  7.826000e+00  1.159000e+01  1.492200e+01  2.000000e+00   \n",
              "\n",
              "                1.1           1.2           1.3           1.4        0.1  \n",
              "count  1.079133e+06  1.079133e+06  1.079133e+06  1.079133e+06  1079133.0  \n",
              "mean   7.553749e-02  2.246748e-01  8.234490e-01  2.491768e+00        0.0  \n",
              "std    2.767069e-01  4.954270e-01  1.201071e+00  2.386876e+00        0.0  \n",
              "min    0.000000e+00  0.000000e+00  0.000000e+00  0.000000e+00        0.0  \n",
              "25%    0.000000e+00  0.000000e+00  0.000000e+00  1.000000e+00        0.0  \n",
              "50%    0.000000e+00  0.000000e+00  0.000000e+00  2.000000e+00        0.0  \n",
              "75%    0.000000e+00  0.000000e+00  1.000000e+00  4.000000e+00        0.0  \n",
              "max    4.000000e+00  6.000000e+00  1.000000e+01  1.800000e+01        0.0  "
            ],
            "text/html": [
              "\n",
              "  <div id=\"df-5d79a606-8e0c-4b55-a054-31a888139950\" class=\"colab-df-container\">\n",
              "    <div>\n",
              "<style scoped>\n",
              "    .dataframe tbody tr th:only-of-type {\n",
              "        vertical-align: middle;\n",
              "    }\n",
              "\n",
              "    .dataframe tbody tr th {\n",
              "        vertical-align: top;\n",
              "    }\n",
              "\n",
              "    .dataframe thead th {\n",
              "        text-align: right;\n",
              "    }\n",
              "</style>\n",
              "<table border=\"1\" class=\"dataframe\">\n",
              "  <thead>\n",
              "    <tr style=\"text-align: right;\">\n",
              "      <th></th>\n",
              "      <th>0</th>\n",
              "      <th>0.000</th>\n",
              "      <th>0.000.1</th>\n",
              "      <th>0.000.2</th>\n",
              "      <th>1</th>\n",
              "      <th>1.1</th>\n",
              "      <th>1.2</th>\n",
              "      <th>1.3</th>\n",
              "      <th>1.4</th>\n",
              "      <th>0.1</th>\n",
              "    </tr>\n",
              "  </thead>\n",
              "  <tbody>\n",
              "    <tr>\n",
              "      <th>count</th>\n",
              "      <td>1.079133e+06</td>\n",
              "      <td>1.079133e+06</td>\n",
              "      <td>1.079133e+06</td>\n",
              "      <td>1.079133e+06</td>\n",
              "      <td>1.079133e+06</td>\n",
              "      <td>1.079133e+06</td>\n",
              "      <td>1.079133e+06</td>\n",
              "      <td>1.079133e+06</td>\n",
              "      <td>1.079133e+06</td>\n",
              "      <td>1079133.0</td>\n",
              "    </tr>\n",
              "    <tr>\n",
              "      <th>mean</th>\n",
              "      <td>1.502021e+02</td>\n",
              "      <td>5.965603e+00</td>\n",
              "      <td>7.416875e+00</td>\n",
              "      <td>9.035807e+00</td>\n",
              "      <td>1.504170e-02</td>\n",
              "      <td>7.553749e-02</td>\n",
              "      <td>2.246748e-01</td>\n",
              "      <td>8.234490e-01</td>\n",
              "      <td>2.491768e+00</td>\n",
              "      <td>0.0</td>\n",
              "    </tr>\n",
              "    <tr>\n",
              "      <th>std</th>\n",
              "      <td>1.267608e+02</td>\n",
              "      <td>8.436803e-01</td>\n",
              "      <td>2.182458e+00</td>\n",
              "      <td>3.029510e+00</td>\n",
              "      <td>1.221747e-01</td>\n",
              "      <td>2.767069e-01</td>\n",
              "      <td>4.954270e-01</td>\n",
              "      <td>1.201071e+00</td>\n",
              "      <td>2.386876e+00</td>\n",
              "      <td>0.0</td>\n",
              "    </tr>\n",
              "    <tr>\n",
              "      <th>min</th>\n",
              "      <td>0.000000e+00</td>\n",
              "      <td>0.000000e+00</td>\n",
              "      <td>0.000000e+00</td>\n",
              "      <td>0.000000e+00</td>\n",
              "      <td>0.000000e+00</td>\n",
              "      <td>0.000000e+00</td>\n",
              "      <td>0.000000e+00</td>\n",
              "      <td>0.000000e+00</td>\n",
              "      <td>0.000000e+00</td>\n",
              "      <td>0.0</td>\n",
              "    </tr>\n",
              "    <tr>\n",
              "      <th>25%</th>\n",
              "      <td>5.500000e+01</td>\n",
              "      <td>5.467000e+00</td>\n",
              "      <td>5.278000e+00</td>\n",
              "      <td>6.272000e+00</td>\n",
              "      <td>0.000000e+00</td>\n",
              "      <td>0.000000e+00</td>\n",
              "      <td>0.000000e+00</td>\n",
              "      <td>0.000000e+00</td>\n",
              "      <td>1.000000e+00</td>\n",
              "      <td>0.0</td>\n",
              "    </tr>\n",
              "    <tr>\n",
              "      <th>50%</th>\n",
              "      <td>1.180000e+02</td>\n",
              "      <td>5.795000e+00</td>\n",
              "      <td>7.869000e+00</td>\n",
              "      <td>8.905000e+00</td>\n",
              "      <td>0.000000e+00</td>\n",
              "      <td>0.000000e+00</td>\n",
              "      <td>0.000000e+00</td>\n",
              "      <td>0.000000e+00</td>\n",
              "      <td>2.000000e+00</td>\n",
              "      <td>0.0</td>\n",
              "    </tr>\n",
              "    <tr>\n",
              "      <th>75%</th>\n",
              "      <td>2.140000e+02</td>\n",
              "      <td>6.563000e+00</td>\n",
              "      <td>9.370000e+00</td>\n",
              "      <td>1.184800e+01</td>\n",
              "      <td>0.000000e+00</td>\n",
              "      <td>0.000000e+00</td>\n",
              "      <td>0.000000e+00</td>\n",
              "      <td>1.000000e+00</td>\n",
              "      <td>4.000000e+00</td>\n",
              "      <td>0.0</td>\n",
              "    </tr>\n",
              "    <tr>\n",
              "      <th>max</th>\n",
              "      <td>1.015000e+03</td>\n",
              "      <td>7.826000e+00</td>\n",
              "      <td>1.159000e+01</td>\n",
              "      <td>1.492200e+01</td>\n",
              "      <td>2.000000e+00</td>\n",
              "      <td>4.000000e+00</td>\n",
              "      <td>6.000000e+00</td>\n",
              "      <td>1.000000e+01</td>\n",
              "      <td>1.800000e+01</td>\n",
              "      <td>0.0</td>\n",
              "    </tr>\n",
              "  </tbody>\n",
              "</table>\n",
              "</div>\n",
              "    <div class=\"colab-df-buttons\">\n",
              "\n",
              "  <div class=\"colab-df-container\">\n",
              "    <button class=\"colab-df-convert\" onclick=\"convertToInteractive('df-5d79a606-8e0c-4b55-a054-31a888139950')\"\n",
              "            title=\"Convert this dataframe to an interactive table.\"\n",
              "            style=\"display:none;\">\n",
              "\n",
              "  <svg xmlns=\"http://www.w3.org/2000/svg\" height=\"24px\" viewBox=\"0 -960 960 960\">\n",
              "    <path d=\"M120-120v-720h720v720H120Zm60-500h600v-160H180v160Zm220 220h160v-160H400v160Zm0 220h160v-160H400v160ZM180-400h160v-160H180v160Zm440 0h160v-160H620v160ZM180-180h160v-160H180v160Zm440 0h160v-160H620v160Z\"/>\n",
              "  </svg>\n",
              "    </button>\n",
              "\n",
              "  <style>\n",
              "    .colab-df-container {\n",
              "      display:flex;\n",
              "      gap: 12px;\n",
              "    }\n",
              "\n",
              "    .colab-df-convert {\n",
              "      background-color: #E8F0FE;\n",
              "      border: none;\n",
              "      border-radius: 50%;\n",
              "      cursor: pointer;\n",
              "      display: none;\n",
              "      fill: #1967D2;\n",
              "      height: 32px;\n",
              "      padding: 0 0 0 0;\n",
              "      width: 32px;\n",
              "    }\n",
              "\n",
              "    .colab-df-convert:hover {\n",
              "      background-color: #E2EBFA;\n",
              "      box-shadow: 0px 1px 2px rgba(60, 64, 67, 0.3), 0px 1px 3px 1px rgba(60, 64, 67, 0.15);\n",
              "      fill: #174EA6;\n",
              "    }\n",
              "\n",
              "    .colab-df-buttons div {\n",
              "      margin-bottom: 4px;\n",
              "    }\n",
              "\n",
              "    [theme=dark] .colab-df-convert {\n",
              "      background-color: #3B4455;\n",
              "      fill: #D2E3FC;\n",
              "    }\n",
              "\n",
              "    [theme=dark] .colab-df-convert:hover {\n",
              "      background-color: #434B5C;\n",
              "      box-shadow: 0px 1px 3px 1px rgba(0, 0, 0, 0.15);\n",
              "      filter: drop-shadow(0px 1px 2px rgba(0, 0, 0, 0.3));\n",
              "      fill: #FFFFFF;\n",
              "    }\n",
              "  </style>\n",
              "\n",
              "    <script>\n",
              "      const buttonEl =\n",
              "        document.querySelector('#df-5d79a606-8e0c-4b55-a054-31a888139950 button.colab-df-convert');\n",
              "      buttonEl.style.display =\n",
              "        google.colab.kernel.accessAllowed ? 'block' : 'none';\n",
              "\n",
              "      async function convertToInteractive(key) {\n",
              "        const element = document.querySelector('#df-5d79a606-8e0c-4b55-a054-31a888139950');\n",
              "        const dataTable =\n",
              "          await google.colab.kernel.invokeFunction('convertToInteractive',\n",
              "                                                    [key], {});\n",
              "        if (!dataTable) return;\n",
              "\n",
              "        const docLinkHtml = 'Like what you see? Visit the ' +\n",
              "          '<a target=\"_blank\" href=https://colab.research.google.com/notebooks/data_table.ipynb>data table notebook</a>'\n",
              "          + ' to learn more about interactive tables.';\n",
              "        element.innerHTML = '';\n",
              "        dataTable['output_type'] = 'display_data';\n",
              "        await google.colab.output.renderOutput(dataTable, element);\n",
              "        const docLink = document.createElement('div');\n",
              "        docLink.innerHTML = docLinkHtml;\n",
              "        element.appendChild(docLink);\n",
              "      }\n",
              "    </script>\n",
              "  </div>\n",
              "\n",
              "\n",
              "<div id=\"df-d716bea7-fa75-4682-8388-2c6bb401a0cb\">\n",
              "  <button class=\"colab-df-quickchart\" onclick=\"quickchart('df-d716bea7-fa75-4682-8388-2c6bb401a0cb')\"\n",
              "            title=\"Suggest charts\"\n",
              "            style=\"display:none;\">\n",
              "\n",
              "<svg xmlns=\"http://www.w3.org/2000/svg\" height=\"24px\"viewBox=\"0 0 24 24\"\n",
              "     width=\"24px\">\n",
              "    <g>\n",
              "        <path d=\"M19 3H5c-1.1 0-2 .9-2 2v14c0 1.1.9 2 2 2h14c1.1 0 2-.9 2-2V5c0-1.1-.9-2-2-2zM9 17H7v-7h2v7zm4 0h-2V7h2v10zm4 0h-2v-4h2v4z\"/>\n",
              "    </g>\n",
              "</svg>\n",
              "  </button>\n",
              "\n",
              "<style>\n",
              "  .colab-df-quickchart {\n",
              "      --bg-color: #E8F0FE;\n",
              "      --fill-color: #1967D2;\n",
              "      --hover-bg-color: #E2EBFA;\n",
              "      --hover-fill-color: #174EA6;\n",
              "      --disabled-fill-color: #AAA;\n",
              "      --disabled-bg-color: #DDD;\n",
              "  }\n",
              "\n",
              "  [theme=dark] .colab-df-quickchart {\n",
              "      --bg-color: #3B4455;\n",
              "      --fill-color: #D2E3FC;\n",
              "      --hover-bg-color: #434B5C;\n",
              "      --hover-fill-color: #FFFFFF;\n",
              "      --disabled-bg-color: #3B4455;\n",
              "      --disabled-fill-color: #666;\n",
              "  }\n",
              "\n",
              "  .colab-df-quickchart {\n",
              "    background-color: var(--bg-color);\n",
              "    border: none;\n",
              "    border-radius: 50%;\n",
              "    cursor: pointer;\n",
              "    display: none;\n",
              "    fill: var(--fill-color);\n",
              "    height: 32px;\n",
              "    padding: 0;\n",
              "    width: 32px;\n",
              "  }\n",
              "\n",
              "  .colab-df-quickchart:hover {\n",
              "    background-color: var(--hover-bg-color);\n",
              "    box-shadow: 0 1px 2px rgba(60, 64, 67, 0.3), 0 1px 3px 1px rgba(60, 64, 67, 0.15);\n",
              "    fill: var(--button-hover-fill-color);\n",
              "  }\n",
              "\n",
              "  .colab-df-quickchart-complete:disabled,\n",
              "  .colab-df-quickchart-complete:disabled:hover {\n",
              "    background-color: var(--disabled-bg-color);\n",
              "    fill: var(--disabled-fill-color);\n",
              "    box-shadow: none;\n",
              "  }\n",
              "\n",
              "  .colab-df-spinner {\n",
              "    border: 2px solid var(--fill-color);\n",
              "    border-color: transparent;\n",
              "    border-bottom-color: var(--fill-color);\n",
              "    animation:\n",
              "      spin 1s steps(1) infinite;\n",
              "  }\n",
              "\n",
              "  @keyframes spin {\n",
              "    0% {\n",
              "      border-color: transparent;\n",
              "      border-bottom-color: var(--fill-color);\n",
              "      border-left-color: var(--fill-color);\n",
              "    }\n",
              "    20% {\n",
              "      border-color: transparent;\n",
              "      border-left-color: var(--fill-color);\n",
              "      border-top-color: var(--fill-color);\n",
              "    }\n",
              "    30% {\n",
              "      border-color: transparent;\n",
              "      border-left-color: var(--fill-color);\n",
              "      border-top-color: var(--fill-color);\n",
              "      border-right-color: var(--fill-color);\n",
              "    }\n",
              "    40% {\n",
              "      border-color: transparent;\n",
              "      border-right-color: var(--fill-color);\n",
              "      border-top-color: var(--fill-color);\n",
              "    }\n",
              "    60% {\n",
              "      border-color: transparent;\n",
              "      border-right-color: var(--fill-color);\n",
              "    }\n",
              "    80% {\n",
              "      border-color: transparent;\n",
              "      border-right-color: var(--fill-color);\n",
              "      border-bottom-color: var(--fill-color);\n",
              "    }\n",
              "    90% {\n",
              "      border-color: transparent;\n",
              "      border-bottom-color: var(--fill-color);\n",
              "    }\n",
              "  }\n",
              "</style>\n",
              "\n",
              "  <script>\n",
              "    async function quickchart(key) {\n",
              "      const quickchartButtonEl =\n",
              "        document.querySelector('#' + key + ' button');\n",
              "      quickchartButtonEl.disabled = true;  // To prevent multiple clicks.\n",
              "      quickchartButtonEl.classList.add('colab-df-spinner');\n",
              "      try {\n",
              "        const charts = await google.colab.kernel.invokeFunction(\n",
              "            'suggestCharts', [key], {});\n",
              "      } catch (error) {\n",
              "        console.error('Error during call to suggestCharts:', error);\n",
              "      }\n",
              "      quickchartButtonEl.classList.remove('colab-df-spinner');\n",
              "      quickchartButtonEl.classList.add('colab-df-quickchart-complete');\n",
              "    }\n",
              "    (() => {\n",
              "      let quickchartButtonEl =\n",
              "        document.querySelector('#df-d716bea7-fa75-4682-8388-2c6bb401a0cb button');\n",
              "      quickchartButtonEl.style.display =\n",
              "        google.colab.kernel.accessAllowed ? 'block' : 'none';\n",
              "    })();\n",
              "  </script>\n",
              "</div>\n",
              "    </div>\n",
              "  </div>\n"
            ],
            "application/vnd.google.colaboratory.intrinsic+json": {
              "type": "dataframe",
              "summary": "{\n  \"name\": \"data\",\n  \"rows\": 8,\n  \"fields\": [\n    {\n      \"column\": \"0\",\n      \"properties\": {\n        \"dtype\": \"number\",\n        \"std\": 381446.4671116223,\n        \"min\": 0.0,\n        \"max\": 1079133.0,\n        \"num_unique_values\": 8,\n        \"samples\": [\n          150.20210020451603,\n          118.0,\n          1079133.0\n        ],\n        \"semantic_type\": \"\",\n        \"description\": \"\"\n      }\n    },\n    {\n      \"column\": \"0.000\",\n      \"properties\": {\n        \"dtype\": \"number\",\n        \"std\": 381529.4915692036,\n        \"min\": 0.0,\n        \"max\": 1079133.0,\n        \"num_unique_values\": 8,\n        \"samples\": [\n          5.965603496510627,\n          5.795,\n          1079133.0\n        ],\n        \"semantic_type\": \"\",\n        \"description\": \"\"\n      }\n    },\n    {\n      \"column\": \"0.000.1\",\n      \"properties\": {\n        \"dtype\": \"number\",\n        \"std\": 381528.92356644507,\n        \"min\": 0.0,\n        \"max\": 1079133.0,\n        \"num_unique_values\": 8,\n        \"samples\": [\n          7.416874801345156,\n          7.869,\n          1079133.0\n        ],\n        \"semantic_type\": \"\",\n        \"description\": \"\"\n      }\n    },\n    {\n      \"column\": \"0.000.2\",\n      \"properties\": {\n        \"dtype\": \"number\",\n        \"std\": 381528.40304626024,\n        \"min\": 0.0,\n        \"max\": 1079133.0,\n        \"num_unique_values\": 8,\n        \"samples\": [\n          9.035807114600335,\n          8.905,\n          1079133.0\n        ],\n        \"semantic_type\": \"\",\n        \"description\": \"\"\n      }\n    },\n    {\n      \"column\": \"1\",\n      \"properties\": {\n        \"dtype\": \"number\",\n        \"std\": 381531.02310598956,\n        \"min\": 0.0,\n        \"max\": 1079133.0,\n        \"num_unique_values\": 5,\n        \"samples\": [\n          0.015041704775963668,\n          2.0,\n          0.12217473595548695\n        ],\n        \"semantic_type\": \"\",\n        \"description\": \"\"\n      }\n    },\n    {\n      \"column\": \"1.1\",\n      \"properties\": {\n        \"dtype\": \"number\",\n        \"std\": 381530.9112320603,\n        \"min\": 0.0,\n        \"max\": 1079133.0,\n        \"num_unique_values\": 5,\n        \"samples\": [\n          0.07553749167155485,\n          4.0,\n          0.2767068599487931\n        ],\n        \"semantic_type\": \"\",\n        \"description\": \"\"\n      }\n    },\n    {\n      \"column\": \"1.2\",\n      \"properties\": {\n        \"dtype\": \"number\",\n        \"std\": 381530.79164028174,\n        \"min\": 0.0,\n        \"max\": 1079133.0,\n        \"num_unique_values\": 5,\n        \"samples\": [\n          0.22467480838784468,\n          6.0,\n          0.49542699764296844\n        ],\n        \"semantic_type\": \"\",\n        \"description\": \"\"\n      }\n    },\n    {\n      \"column\": \"1.3\",\n      \"properties\": {\n        \"dtype\": \"number\",\n        \"std\": 381530.473228258,\n        \"min\": 0.0,\n        \"max\": 1079133.0,\n        \"num_unique_values\": 6,\n        \"samples\": [\n          1079133.0,\n          0.823449009528946,\n          10.0\n        ],\n        \"semantic_type\": \"\",\n        \"description\": \"\"\n      }\n    },\n    {\n      \"column\": \"1.4\",\n      \"properties\": {\n        \"dtype\": \"number\",\n        \"std\": 381529.62199464295,\n        \"min\": 0.0,\n        \"max\": 1079133.0,\n        \"num_unique_values\": 8,\n        \"samples\": [\n          2.4917679285129823,\n          2.0,\n          1079133.0\n        ],\n        \"semantic_type\": \"\",\n        \"description\": \"\"\n      }\n    },\n    {\n      \"column\": \"0.1\",\n      \"properties\": {\n        \"dtype\": \"number\",\n        \"std\": 381531.1310510913,\n        \"min\": 0.0,\n        \"max\": 1079133.0,\n        \"num_unique_values\": 2,\n        \"samples\": [\n          0.0,\n          1079133.0\n        ],\n        \"semantic_type\": \"\",\n        \"description\": \"\"\n      }\n    }\n  ]\n}"
            }
          },
          "metadata": {},
          "execution_count": 3
        }
      ]
    },
    {
      "cell_type": "code",
      "source": [
        "y = data.iloc[:, 2]\n",
        "X = data.iloc[:, [3,4]]"
      ],
      "metadata": {
        "id": "MUEPuhu0sclU"
      },
      "execution_count": 110,
      "outputs": []
    },
    {
      "cell_type": "code",
      "source": [
        "y.value_counts()"
      ],
      "metadata": {
        "colab": {
          "base_uri": "https://localhost:8080/"
        },
        "id": "d7BFAOkv5ygW",
        "outputId": "a0e8c551-3e07-4c0a-9cae-aabfcd8eae99"
      },
      "execution_count": 111,
      "outputs": [
        {
          "output_type": "execute_result",
          "data": {
            "text/plain": [
              "C\n",
              "H    459325\n",
              "C    377953\n",
              "E    241855\n",
              "Name: count, dtype: int64"
            ]
          },
          "metadata": {},
          "execution_count": 111
        }
      ]
    },
    {
      "cell_type": "code",
      "source": [
        "y = y\n",
        "y = y.values\n",
        "X = X\n",
        "X = X.values\n"
      ],
      "metadata": {
        "id": "_gg3LGLItNEk",
        "colab": {
          "base_uri": "https://localhost:8080/",
          "height": 193
        },
        "outputId": "62ef06a8-eec6-4c2b-b75b-7a88788546d0"
      },
      "execution_count": 113,
      "outputs": [
        {
          "output_type": "error",
          "ename": "AttributeError",
          "evalue": "'numpy.ndarray' object has no attribute 'values'",
          "traceback": [
            "\u001b[0;31m---------------------------------------------------------------------------\u001b[0m",
            "\u001b[0;31mAttributeError\u001b[0m                            Traceback (most recent call last)",
            "\u001b[0;32m<ipython-input-113-47c82d036827>\u001b[0m in \u001b[0;36m<cell line: 2>\u001b[0;34m()\u001b[0m\n\u001b[1;32m      1\u001b[0m \u001b[0my\u001b[0m \u001b[0;34m=\u001b[0m \u001b[0my\u001b[0m\u001b[0;34m\u001b[0m\u001b[0;34m\u001b[0m\u001b[0m\n\u001b[0;32m----> 2\u001b[0;31m \u001b[0my\u001b[0m \u001b[0;34m=\u001b[0m \u001b[0my\u001b[0m\u001b[0;34m.\u001b[0m\u001b[0mvalues\u001b[0m\u001b[0;34m\u001b[0m\u001b[0;34m\u001b[0m\u001b[0m\n\u001b[0m\u001b[1;32m      3\u001b[0m \u001b[0mX\u001b[0m \u001b[0;34m=\u001b[0m \u001b[0mX\u001b[0m\u001b[0;34m\u001b[0m\u001b[0;34m\u001b[0m\u001b[0m\n\u001b[1;32m      4\u001b[0m \u001b[0mX\u001b[0m \u001b[0;34m=\u001b[0m \u001b[0mX\u001b[0m\u001b[0;34m.\u001b[0m\u001b[0mvalues\u001b[0m\u001b[0;34m\u001b[0m\u001b[0;34m\u001b[0m\u001b[0m\n",
            "\u001b[0;31mAttributeError\u001b[0m: 'numpy.ndarray' object has no attribute 'values'"
          ]
        }
      ]
    },
    {
      "cell_type": "code",
      "source": [
        "#X_samll = X.iloc[0:100,0:]\n",
        "#y_samll = y.iloc[0:100]"
      ],
      "metadata": {
        "id": "ExgIrnDQwfYj"
      },
      "execution_count": 114,
      "outputs": []
    },
    {
      "cell_type": "code",
      "source": [
        "target_encoding = []\n",
        "for x in y:\n",
        "  if x == \"H\":\n",
        "    target_encoding.append(4)\n",
        "  elif x == \"C\":\n",
        "    target_encoding.append(3)\n",
        "  else:\n",
        "      target_encoding.append(2)\n",
        "target_encoding = np.array(target_encoding)"
      ],
      "metadata": {
        "id": "CQCupFmK5tHF"
      },
      "execution_count": 115,
      "outputs": []
    },
    {
      "cell_type": "markdown",
      "source": [
        "# ***Randome Under Sampleing***"
      ],
      "metadata": {
        "id": "FDaWs42L7PM8"
      }
    },
    {
      "cell_type": "code",
      "source": [
        "\n",
        "\n",
        "from imblearn.under_sampling import RandomUnderSampler\n",
        "undersample = RandomUnderSampler(sampling_strategy='majority')\n",
        "# fit and apply the transform\n",
        "X_under, y_under = undersample.fit_resample(X, target_encoding)"
      ],
      "metadata": {
        "id": "naF3dBt45V1X"
      },
      "execution_count": 116,
      "outputs": []
    },
    {
      "cell_type": "code",
      "source": [
        "pd.DataFrame(y_under).value_counts()"
      ],
      "metadata": {
        "colab": {
          "base_uri": "https://localhost:8080/"
        },
        "id": "wS5YoHhe6cQF",
        "outputId": "1ee4f2c2-d346-4216-88f7-82d6909e12a0"
      },
      "execution_count": 117,
      "outputs": [
        {
          "output_type": "execute_result",
          "data": {
            "text/plain": [
              "3    377953\n",
              "2    241855\n",
              "4    241855\n",
              "Name: count, dtype: int64"
            ]
          },
          "metadata": {},
          "execution_count": 117
        }
      ]
    },
    {
      "cell_type": "markdown",
      "source": [
        "# ***Randome Over Sampleing***"
      ],
      "metadata": {
        "id": "sK9YFpgL7nGU"
      }
    },
    {
      "cell_type": "code",
      "source": [
        "from imblearn.over_sampling import RandomOverSampler\n",
        "oversample = RandomOverSampler(sampling_strategy='minority')\n",
        "# fit and apply the transform\n",
        "X_over, y_over = oversample.fit_resample(X,target_encoding)"
      ],
      "metadata": {
        "id": "VDHUV6N06gPW"
      },
      "execution_count": 139,
      "outputs": []
    },
    {
      "cell_type": "code",
      "source": [
        "pd.DataFrame(y_over).value_counts()"
      ],
      "metadata": {
        "colab": {
          "base_uri": "https://localhost:8080/"
        },
        "id": "7tkQ59117gmV",
        "outputId": "6be5df94-4d19-4749-ce5e-f6661cad7f73"
      },
      "execution_count": 140,
      "outputs": [
        {
          "output_type": "execute_result",
          "data": {
            "text/plain": [
              "2    459325\n",
              "4    459325\n",
              "3    377953\n",
              "Name: count, dtype: int64"
            ]
          },
          "metadata": {},
          "execution_count": 140
        }
      ]
    },
    {
      "cell_type": "markdown",
      "source": [
        "# ***SMOTE***"
      ],
      "metadata": {
        "id": "FNW4YHlLAUgZ"
      }
    },
    {
      "cell_type": "code",
      "source": [
        "from imblearn.over_sampling import SMOTE\n",
        "oversample = SMOTE()\n",
        "X_sm, y_sm = oversample.fit_resample(X, target_encoding)"
      ],
      "metadata": {
        "id": "YWqXeUcCAaMP"
      },
      "execution_count": 141,
      "outputs": []
    },
    {
      "cell_type": "code",
      "source": [
        "pd.DataFrame(y_sm).value_counts()"
      ],
      "metadata": {
        "colab": {
          "base_uri": "https://localhost:8080/"
        },
        "id": "HDl-OWBcAyqq",
        "outputId": "654ea786-c6c3-43f4-ae9a-99964fe74928"
      },
      "execution_count": 142,
      "outputs": [
        {
          "output_type": "execute_result",
          "data": {
            "text/plain": [
              "2    459325\n",
              "3    459325\n",
              "4    459325\n",
              "Name: count, dtype: int64"
            ]
          },
          "metadata": {},
          "execution_count": 142
        }
      ]
    },
    {
      "cell_type": "code",
      "source": [
        "X_over.shape"
      ],
      "metadata": {
        "colab": {
          "base_uri": "https://localhost:8080/"
        },
        "id": "5uT7x-8tBd7Z",
        "outputId": "869b1546-4665-43f8-9a9e-ab665b20266e"
      },
      "execution_count": 143,
      "outputs": [
        {
          "output_type": "execute_result",
          "data": {
            "text/plain": [
              "(1296603, 2)"
            ]
          },
          "metadata": {},
          "execution_count": 143
        }
      ]
    },
    {
      "cell_type": "code",
      "source": [
        "X_sm.shape"
      ],
      "metadata": {
        "colab": {
          "base_uri": "https://localhost:8080/"
        },
        "id": "xpFJmJKkBgp2",
        "outputId": "ba7a8232-5f3a-4ee9-b6d2-40ff851db608"
      },
      "execution_count": 144,
      "outputs": [
        {
          "output_type": "execute_result",
          "data": {
            "text/plain": [
              "(1377975, 2)"
            ]
          },
          "metadata": {},
          "execution_count": 144
        }
      ]
    },
    {
      "cell_type": "code",
      "source": [
        "X_total =pd.concat([pd.DataFrame(X_over),pd.DataFrame(X_sm)])\n",
        "X_total =pd.concat([pd.DataFrame(y_over),pd.DataFrame(y_sm)])"
      ],
      "metadata": {
        "id": "aEM1KJXjA9Us"
      },
      "execution_count": 145,
      "outputs": []
    },
    {
      "cell_type": "code",
      "source": [
        "X_total.shape"
      ],
      "metadata": {
        "colab": {
          "base_uri": "https://localhost:8080/"
        },
        "id": "CbFf2ZlSDQd1",
        "outputId": "4ccc0134-9356-495e-fc15-082c909c8c1e"
      },
      "execution_count": 146,
      "outputs": [
        {
          "output_type": "execute_result",
          "data": {
            "text/plain": [
              "(2674578, 1)"
            ]
          },
          "metadata": {},
          "execution_count": 146
        }
      ]
    },
    {
      "cell_type": "code",
      "source": [
        "pd.DataFrame(Y_total).value_counts()"
      ],
      "metadata": {
        "colab": {
          "base_uri": "https://localhost:8080/"
        },
        "id": "JrAtqUcnBfH6",
        "outputId": "7fea3327-762e-4989-d9b6-3289301be92f"
      },
      "execution_count": 147,
      "outputs": [
        {
          "output_type": "execute_result",
          "data": {
            "text/plain": [
              "2    918650\n",
              "4    918650\n",
              "3    837278\n",
              "Name: count, dtype: int64"
            ]
          },
          "metadata": {},
          "execution_count": 147
        }
      ]
    },
    {
      "cell_type": "code",
      "source": [
        "np.array(Y_total).shape"
      ],
      "metadata": {
        "colab": {
          "base_uri": "https://localhost:8080/"
        },
        "id": "divB7XiLChmZ",
        "outputId": "2a5e9c1c-27b4-4f47-e7b4-011c09eba311"
      },
      "execution_count": 148,
      "outputs": [
        {
          "output_type": "execute_result",
          "data": {
            "text/plain": [
              "(2674578, 1)"
            ]
          },
          "metadata": {},
          "execution_count": 148
        }
      ]
    },
    {
      "cell_type": "code",
      "source": [
        "import tensorflow as tf\n",
        "from tensorflow import keras"
      ],
      "metadata": {
        "id": "3nQJgVgB3zn3"
      },
      "execution_count": 13,
      "outputs": []
    },
    {
      "cell_type": "code",
      "source": [
        "model = keras.models.Sequential()\n",
        "model.add(keras.layers.Flatten(input_shape=[2, 1]))\n",
        "model.add(keras.layers.Dense(32, activation=\"swish\"))\n",
        "model.add(keras.layers.Dense(128, activation=\"swish\"))\n",
        "model.add(keras.layers.Dense(3, activation=\"softmax\"))"
      ],
      "metadata": {
        "id": "s4tDnyiV4JHW"
      },
      "execution_count": 149,
      "outputs": []
    },
    {
      "cell_type": "code",
      "source": [
        "target_encoding = []\n",
        "for x in np.array(y_over).ravel():\n",
        "  if x == 2:\n",
        "    target_encoding.append([1, 0, 0])\n",
        "  elif x == 4:\n",
        "    target_encoding.append([0, 1, 0])\n",
        "  else:\n",
        "      target_encoding.append([0, 0, 1])\n",
        "target_encoding = np.array(target_encoding)"
      ],
      "metadata": {
        "id": "AU5ou1q25Hhs"
      },
      "execution_count": 150,
      "outputs": []
    },
    {
      "cell_type": "code",
      "source": [
        "target_encoding.shape"
      ],
      "metadata": {
        "colab": {
          "base_uri": "https://localhost:8080/"
        },
        "id": "-ItJziNiCSYc",
        "outputId": "528c2132-9e34-4288-f371-1a414dee1abf"
      },
      "execution_count": 151,
      "outputs": [
        {
          "output_type": "execute_result",
          "data": {
            "text/plain": [
              "(1296603, 3)"
            ]
          },
          "metadata": {},
          "execution_count": 151
        }
      ]
    },
    {
      "cell_type": "code",
      "source": [
        "pd.DataFrame(target_encoding).value_counts()"
      ],
      "metadata": {
        "colab": {
          "base_uri": "https://localhost:8080/"
        },
        "id": "gEITgfYG8RaM",
        "outputId": "0695a375-30da-4b85-ec3f-a542ac1de59d"
      },
      "execution_count": 152,
      "outputs": [
        {
          "output_type": "execute_result",
          "data": {
            "text/plain": [
              "0  1  2\n",
              "0  1  0    459325\n",
              "1  0  0    459325\n",
              "0  0  1    377953\n",
              "Name: count, dtype: int64"
            ]
          },
          "metadata": {},
          "execution_count": 152
        }
      ]
    },
    {
      "cell_type": "code",
      "source": [
        "model.summary()\n"
      ],
      "metadata": {
        "colab": {
          "base_uri": "https://localhost:8080/"
        },
        "id": "C2uJ0AD_6C0K",
        "outputId": "8f655e85-90c4-4a8d-bab4-88589bca96f1"
      },
      "execution_count": 153,
      "outputs": [
        {
          "output_type": "stream",
          "name": "stdout",
          "text": [
            "Model: \"sequential_3\"\n",
            "_________________________________________________________________\n",
            " Layer (type)                Output Shape              Param #   \n",
            "=================================================================\n",
            " flatten_3 (Flatten)         (None, 2)                 0         \n",
            "                                                                 \n",
            " dense_9 (Dense)             (None, 32)                96        \n",
            "                                                                 \n",
            " dense_10 (Dense)            (None, 128)               4224      \n",
            "                                                                 \n",
            " dense_11 (Dense)            (None, 3)                 387       \n",
            "                                                                 \n",
            "=================================================================\n",
            "Total params: 4707 (18.39 KB)\n",
            "Trainable params: 4707 (18.39 KB)\n",
            "Non-trainable params: 0 (0.00 Byte)\n",
            "_________________________________________________________________\n"
          ]
        }
      ]
    },
    {
      "cell_type": "code",
      "source": [
        "import numpy as np\n",
        "X_tensor = np.array(X_over).reshape(X_over.shape[0],X_over.shape[1],1)"
      ],
      "metadata": {
        "id": "Q1cjYxxm5eoc"
      },
      "execution_count": 154,
      "outputs": []
    },
    {
      "cell_type": "code",
      "source": [
        "print(X_tensor.shape)"
      ],
      "metadata": {
        "colab": {
          "base_uri": "https://localhost:8080/"
        },
        "id": "Hq6Bt2Cm5vFJ",
        "outputId": "490a1b4d-0751-4067-ef6e-ad36be59aecb"
      },
      "execution_count": 155,
      "outputs": [
        {
          "output_type": "stream",
          "name": "stdout",
          "text": [
            "(1296603, 2, 1)\n"
          ]
        }
      ]
    },
    {
      "cell_type": "code",
      "source": [
        "target_encoding.shape"
      ],
      "metadata": {
        "colab": {
          "base_uri": "https://localhost:8080/"
        },
        "id": "rcJtwuIv5x0M",
        "outputId": "938618e5-7195-4d2a-efc7-9f1bfcbc1b0a"
      },
      "execution_count": 156,
      "outputs": [
        {
          "output_type": "execute_result",
          "data": {
            "text/plain": [
              "(1296603, 3)"
            ]
          },
          "metadata": {},
          "execution_count": 156
        }
      ]
    },
    {
      "cell_type": "code",
      "source": [
        "weights, biases =  model.layers[1].get_weights()\n"
      ],
      "metadata": {
        "id": "kxQomrcL6K-o"
      },
      "execution_count": 65,
      "outputs": []
    },
    {
      "cell_type": "code",
      "source": [
        "print(weights)"
      ],
      "metadata": {
        "colab": {
          "base_uri": "https://localhost:8080/"
        },
        "id": "iYNprQIh6RNm",
        "outputId": "afa17fe8-19e7-476f-cf63-ff28a340034d"
      },
      "execution_count": 66,
      "outputs": [
        {
          "output_type": "stream",
          "name": "stdout",
          "text": [
            "[[-1.29740193e-01  4.10110831e-01  9.67704803e-02  3.34231913e-01\n",
            "   1.25606313e-01  5.98502636e-01 -2.75580794e-01 -2.66934484e-01\n",
            "  -7.02801123e-02 -7.97070414e-02 -2.88624853e-01 -4.80922833e-02\n",
            "  -9.32495594e-01  8.86049509e-01 -3.18686962e-01 -1.05467826e-01\n",
            "  -8.06228757e-01  5.59374869e-01  3.27713490e-01 -2.84050435e-01\n",
            "   3.52546349e-02  4.43235831e-03 -2.12207630e-01 -4.34126258e-01\n",
            "  -2.44861364e-01  1.07067084e+00 -2.10663170e-01  5.40889919e-01\n",
            "   1.49690676e-02  2.39062980e-01  6.58852682e-02  1.81739762e-01]\n",
            " [-1.17467785e+00  3.60557258e-01 -1.96871355e-01  3.17333043e-01\n",
            "   1.07434675e-01 -7.35420808e-02  2.52623886e-01  8.24577212e-02\n",
            "   7.85287768e-02 -3.38757455e-01  1.81705892e-01  1.23960495e-01\n",
            "  -4.40563351e-01  1.99241951e-01 -6.16568848e-02 -2.82566369e-01\n",
            "   9.02906597e-01 -8.41691643e-02  1.99320525e-01  2.84544349e-01\n",
            "  -2.46877223e-01  1.70793355e-01  6.87237680e-02 -3.02778542e-01\n",
            "   2.94749826e-01 -7.73931205e-01 -1.34890288e-01 -5.18147826e-01\n",
            "   1.76605061e-01  8.12554881e-02 -2.30807424e-01  1.18961012e+00]\n",
            " [ 8.32508981e-01 -7.49830008e-01  3.51060420e-01 -6.28550872e-02\n",
            "   2.41439760e-01 -2.40662351e-01 -3.20821583e-01 -7.36379251e-02\n",
            "   4.23297703e-01 -4.95604873e-01 -2.14980125e-01 -1.59123093e-01\n",
            "   8.15462291e-01 -4.41334397e-01  3.04265637e-02 -1.63427353e-01\n",
            "  -1.55203752e-02 -2.45873466e-01 -3.41735557e-02  3.20951790e-01\n",
            "   2.66170710e-01 -2.47064829e-01 -2.13246882e-01 -3.00803930e-01\n",
            "  -3.75407070e-01 -1.28373772e-01 -1.86926708e-01  5.13620555e-01\n",
            "   1.80085301e-01 -1.12863101e-01  3.68948132e-01 -9.22838032e-01]\n",
            " [ 2.30943665e-01  9.16722268e-02 -8.44293833e-02  3.07458818e-01\n",
            "  -1.32477373e-01 -4.39265043e-01 -1.08080536e-01 -2.26152673e-01\n",
            "   1.33444577e-01  1.91351250e-01 -2.67507792e-01 -6.87970743e-02\n",
            "  -1.42719686e-01 -1.75905734e-01  3.27812910e-01  2.27034211e-01\n",
            "   1.42909959e-01 -2.13061884e-01 -3.36278349e-01  2.67455459e-01\n",
            "  -2.28469357e-01 -1.77230895e-01 -2.15999722e-01 -1.38775051e-01\n",
            "  -2.54992574e-01 -1.26126468e-01  4.17603672e-01 -2.29803458e-01\n",
            "  -4.62718576e-01 -1.51492149e-01 -5.41591793e-02 -2.17090756e-01]\n",
            " [-9.32751969e-03 -4.94610481e-02  1.44654274e-01 -8.17826614e-02\n",
            "  -7.05153570e-02 -2.93851644e-01  2.86585748e-01 -3.84232849e-01\n",
            "   1.50450960e-01 -3.34981501e-01 -3.02412331e-01  2.67855376e-01\n",
            "  -1.30443484e-01  1.21881820e-01  3.74996424e-01 -2.63072878e-01\n",
            "  -1.29520535e-01 -2.54493952e-01  3.16713870e-01 -2.19357088e-01\n",
            "   4.69640791e-02  3.57973389e-02  1.91885293e-01 -1.60232991e-01\n",
            "  -4.12456803e-02 -2.74182022e-01 -5.78762405e-02  4.39732015e-01\n",
            "  -9.69435051e-02  7.39852712e-02  4.07098562e-01  3.78756642e-01]\n",
            " [-1.08847506e-02  4.18267965e-01  3.55174392e-01 -1.76304560e-02\n",
            "   2.51381993e-01  7.63562554e-03 -2.16786310e-01 -2.43977234e-01\n",
            "  -1.41107708e-01 -2.86839604e-01  3.65861118e-01  1.18636394e+00\n",
            "   1.01992533e-01  7.26969838e-02  1.25109673e-01  2.52033293e-01\n",
            "   3.13677639e-01  2.78334618e-01  3.99305880e-01  1.46121323e-01\n",
            "  -2.27431118e-01 -8.37123692e-02  1.69782192e-01  6.26095682e-02\n",
            "  -2.20051557e-01  2.00770438e-01 -8.50811079e-02  2.65595824e-01\n",
            "  -3.09192054e-02 -3.51218432e-01 -2.02519104e-01  3.46462280e-01]\n",
            " [-6.69490620e-02  2.05523431e-01  2.72174954e-01 -3.87212962e-01\n",
            "   1.42085448e-01  4.87982720e-01  3.68097275e-02  4.85662408e-02\n",
            "  -7.07563460e-02  1.61620583e-02 -2.67065346e-01  5.74414015e-01\n",
            "  -9.94683430e-02  5.29139899e-02 -1.74854144e-01  2.38394886e-01\n",
            "   2.19873473e-01  3.76094609e-01  1.62898600e-01 -2.54942149e-01\n",
            "  -7.22695529e-01 -3.61770093e-01  7.45293498e-02  4.56535108e-02\n",
            "   1.65257901e-01 -1.41079858e-01  2.48217434e-01 -2.26285483e-04\n",
            "   4.10065264e-01 -1.85472339e-01  3.14598024e-01 -4.31976199e-01]\n",
            " [-4.55964096e-02  1.62934326e-02  8.63874797e-03 -4.85367715e-01\n",
            "  -3.49434435e-01  7.93105006e-01  8.86206552e-02 -2.71768421e-01\n",
            "  -1.40918598e-01 -2.87074864e-01  1.14182755e-01 -2.98385859e-01\n",
            "   7.56266564e-02  2.09635943e-01 -3.99839841e-02 -1.14190295e-01\n",
            "   1.64182469e-01  3.33263993e-01 -2.61072397e-01  4.84271534e-02\n",
            "  -7.70451546e-01 -1.69570494e+00  3.04836989e-03 -2.73152351e-01\n",
            "   5.22046722e-02 -3.88510861e-02  4.38140891e-02 -1.96516410e-01\n",
            "  -1.48338765e-01  2.46489316e-01 -5.73307872e-02 -1.34489268e-01]]\n"
          ]
        }
      ]
    },
    {
      "cell_type": "code",
      "source": [
        "weights.shape"
      ],
      "metadata": {
        "colab": {
          "base_uri": "https://localhost:8080/"
        },
        "id": "NOyjOmZ56dK7",
        "outputId": "b94e3c96-0f53-4c83-eb8b-7b9abaecf0a8"
      },
      "execution_count": 67,
      "outputs": [
        {
          "output_type": "execute_result",
          "data": {
            "text/plain": [
              "(8, 32)"
            ]
          },
          "metadata": {},
          "execution_count": 67
        }
      ]
    },
    {
      "cell_type": "code",
      "source": [
        "import matplotlib.pyplot as plt\n",
        "plt.plot(weights[0])\n",
        "plt.plot(weights[1])\n",
        "plt.plot(weights[2])\n",
        "plt.plot(weights[3])"
      ],
      "metadata": {
        "colab": {
          "base_uri": "https://localhost:8080/",
          "height": 447
        },
        "id": "55J-h6Jx6f8V",
        "outputId": "c3e0848a-f296-4bdd-eaba-fbe6ed138293"
      },
      "execution_count": 68,
      "outputs": [
        {
          "output_type": "execute_result",
          "data": {
            "text/plain": [
              "[<matplotlib.lines.Line2D at 0x780f75fee110>]"
            ]
          },
          "metadata": {},
          "execution_count": 68
        },
        {
          "output_type": "display_data",
          "data": {
            "text/plain": [
              "<Figure size 640x480 with 1 Axes>"
            ],
            "image/png": "[encoded data removed]"
          },
          "metadata": {}
        }
      ]
    },
    {
      "cell_type": "code",
      "source": [
        "model.compile(loss=\"categorical_crossentropy\",\n",
        " optimizer=\"sgd\",\n",
        " metrics=[\"accuracy\"])"
      ],
      "metadata": {
        "id": "ceDy0Os76vei"
      },
      "execution_count": 157,
      "outputs": []
    },
    {
      "cell_type": "code",
      "source": [
        "X_train, X_test, y_train, y_test = train_test_split(X_tensor, target_encoding, test_size=0.30, random_state=0)\n",
        "print(y_train.shape)\n",
        "print(y_test.shape)\n",
        "print(X_train.shape)\n",
        "print(X_test.shape)"
      ],
      "metadata": {
        "colab": {
          "base_uri": "https://localhost:8080/"
        },
        "id": "QFfI3tLs7Nw6",
        "outputId": "dce6b69e-7d3c-4f67-add5-1ef0e7b55eb8"
      },
      "execution_count": 158,
      "outputs": [
        {
          "output_type": "stream",
          "name": "stdout",
          "text": [
            "(907622, 3)\n",
            "(388981, 3)\n",
            "(907622, 2, 1)\n",
            "(388981, 2, 1)\n"
          ]
        }
      ]
    },
    {
      "cell_type": "code",
      "source": [
        "history = model.fit(X_train, y_train, epochs=1000,validation_data=(X_test, y_test),batch_size = 8192,validation_batch_size=8192)"
      ],
      "metadata": {
        "colab": {
          "base_uri": "https://localhost:8080/",
          "height": 1000
        },
        "id": "cS-6GqGM6-19",
        "outputId": "3604675c-556f-4367-837c-41f0f91087e3"
      },
      "execution_count": 160,
      "outputs": [
        {
          "output_type": "stream",
          "name": "stdout",
          "text": [
            "Epoch 1/200\n",
            "111/111 [==============================] - 1s 11ms/step - loss: 0.6554 - accuracy: 0.7129 - val_loss: 0.6541 - val_accuracy: 0.7134\n",
            "Epoch 2/200\n",
            "111/111 [==============================] - 2s 20ms/step - loss: 0.6547 - accuracy: 0.7134 - val_loss: 0.6539 - val_accuracy: 0.7152\n",
            "Epoch 3/200\n",
            "111/111 [==============================] - 2s 23ms/step - loss: 0.6549 - accuracy: 0.7130 - val_loss: 0.6535 - val_accuracy: 0.7133\n",
            "Epoch 4/200\n",
            "111/111 [==============================] - 2s 14ms/step - loss: 0.6549 - accuracy: 0.7131 - val_loss: 0.6611 - val_accuracy: 0.7137\n",
            "Epoch 5/200\n",
            "111/111 [==============================] - 2s 16ms/step - loss: 0.6564 - accuracy: 0.7177 - val_loss: 0.6729 - val_accuracy: 0.7005\n",
            "Epoch 6/200\n",
            "111/111 [==============================] - 1s 10ms/step - loss: 0.6534 - accuracy: 0.7193 - val_loss: 0.6528 - val_accuracy: 0.7187\n",
            "Epoch 7/200\n",
            "111/111 [==============================] - 1s 10ms/step - loss: 0.6549 - accuracy: 0.7183 - val_loss: 0.6572 - val_accuracy: 0.7217\n",
            "Epoch 8/200\n",
            "111/111 [==============================] - 1s 10ms/step - loss: 0.6582 - accuracy: 0.7161 - val_loss: 0.6628 - val_accuracy: 0.7073\n",
            "Epoch 9/200\n",
            "111/111 [==============================] - 2s 16ms/step - loss: 0.6579 - accuracy: 0.7162 - val_loss: 0.6534 - val_accuracy: 0.7183\n",
            "Epoch 10/200\n",
            "111/111 [==============================] - 1s 10ms/step - loss: 0.6543 - accuracy: 0.7185 - val_loss: 0.6666 - val_accuracy: 0.7163\n",
            "Epoch 11/200\n",
            "111/111 [==============================] - 2s 15ms/step - loss: 0.6587 - accuracy: 0.7154 - val_loss: 0.6531 - val_accuracy: 0.7172\n",
            "Epoch 12/200\n",
            "111/111 [==============================] - 2s 14ms/step - loss: 0.6558 - accuracy: 0.7172 - val_loss: 0.6613 - val_accuracy: 0.7078\n",
            "Epoch 13/200\n",
            "111/111 [==============================] - 2s 18ms/step - loss: 0.6569 - accuracy: 0.7166 - val_loss: 0.6565 - val_accuracy: 0.7128\n",
            "Epoch 14/200\n",
            "111/111 [==============================] - 1s 10ms/step - loss: 0.6572 - accuracy: 0.7163 - val_loss: 0.6522 - val_accuracy: 0.7185\n",
            "Epoch 15/200\n",
            "111/111 [==============================] - 2s 16ms/step - loss: 0.6554 - accuracy: 0.7173 - val_loss: 0.6535 - val_accuracy: 0.7222\n",
            "Epoch 16/200\n",
            "111/111 [==============================] - 2s 18ms/step - loss: 0.6536 - accuracy: 0.7186 - val_loss: 0.6676 - val_accuracy: 0.7145\n",
            "Epoch 17/200\n",
            "111/111 [==============================] - 2s 16ms/step - loss: 0.6566 - accuracy: 0.7164 - val_loss: 0.6920 - val_accuracy: 0.6920\n",
            "Epoch 18/200\n",
            "111/111 [==============================] - 1s 10ms/step - loss: 0.6601 - accuracy: 0.7142 - val_loss: 0.6538 - val_accuracy: 0.7146\n",
            "Epoch 19/200\n",
            "111/111 [==============================] - 1s 10ms/step - loss: 0.6523 - accuracy: 0.7191 - val_loss: 0.6523 - val_accuracy: 0.7226\n",
            "Epoch 20/200\n",
            "111/111 [==============================] - 2s 16ms/step - loss: 0.6563 - accuracy: 0.7165 - val_loss: 0.6523 - val_accuracy: 0.7221\n",
            "Epoch 21/200\n",
            "111/111 [==============================] - 2s 17ms/step - loss: 0.6548 - accuracy: 0.7176 - val_loss: 0.6677 - val_accuracy: 0.7138\n",
            "Epoch 22/200\n",
            "111/111 [==============================] - 1s 10ms/step - loss: 0.6539 - accuracy: 0.7182 - val_loss: 0.6502 - val_accuracy: 0.7207\n",
            "Epoch 23/200\n",
            "111/111 [==============================] - 1s 10ms/step - loss: 0.6522 - accuracy: 0.7189 - val_loss: 0.6522 - val_accuracy: 0.7163\n",
            "Epoch 24/200\n",
            "111/111 [==============================] - 1s 10ms/step - loss: 0.6541 - accuracy: 0.7178 - val_loss: 0.6656 - val_accuracy: 0.7155\n",
            "Epoch 25/200\n",
            "111/111 [==============================] - 2s 15ms/step - loss: 0.6553 - accuracy: 0.7169 - val_loss: 0.6504 - val_accuracy: 0.7200\n",
            "Epoch 26/200\n",
            "111/111 [==============================] - 2s 15ms/step - loss: 0.6502 - accuracy: 0.7200 - val_loss: 0.6605 - val_accuracy: 0.7075\n",
            "Epoch 27/200\n",
            "111/111 [==============================] - 2s 15ms/step - loss: 0.6547 - accuracy: 0.7174 - val_loss: 0.6501 - val_accuracy: 0.7205\n",
            "Epoch 28/200\n",
            "111/111 [==============================] - 1s 10ms/step - loss: 0.6560 - accuracy: 0.7163 - val_loss: 0.6723 - val_accuracy: 0.7021\n",
            "Epoch 29/200\n",
            "111/111 [==============================] - 1s 13ms/step - loss: 0.6560 - accuracy: 0.7166 - val_loss: 0.6555 - val_accuracy: 0.7203\n",
            "Epoch 30/200\n",
            "111/111 [==============================] - 2s 17ms/step - loss: 0.6529 - accuracy: 0.7182 - val_loss: 0.6491 - val_accuracy: 0.7194\n",
            "Epoch 31/200\n",
            "111/111 [==============================] - 1s 11ms/step - loss: 0.6501 - accuracy: 0.7200 - val_loss: 0.6535 - val_accuracy: 0.7224\n",
            "Epoch 32/200\n",
            "111/111 [==============================] - 1s 10ms/step - loss: 0.6547 - accuracy: 0.7169 - val_loss: 0.6823 - val_accuracy: 0.6962\n",
            "Epoch 33/200\n",
            "111/111 [==============================] - 1s 10ms/step - loss: 0.6551 - accuracy: 0.7168 - val_loss: 0.6516 - val_accuracy: 0.7149\n",
            "Epoch 34/200\n",
            "111/111 [==============================] - 2s 15ms/step - loss: 0.6501 - accuracy: 0.7195 - val_loss: 0.6483 - val_accuracy: 0.7205\n",
            "Epoch 35/200\n",
            "111/111 [==============================] - 1s 10ms/step - loss: 0.6494 - accuracy: 0.7202 - val_loss: 0.6749 - val_accuracy: 0.7002\n",
            "Epoch 36/200\n",
            "111/111 [==============================] - 2s 16ms/step - loss: 0.6515 - accuracy: 0.7189 - val_loss: 0.6484 - val_accuracy: 0.7222\n",
            "Epoch 37/200\n",
            "111/111 [==============================] - 2s 16ms/step - loss: 0.6526 - accuracy: 0.7182 - val_loss: 0.6620 - val_accuracy: 0.7086\n",
            "Epoch 38/200\n",
            "111/111 [==============================] - 2s 15ms/step - loss: 0.6539 - accuracy: 0.7170 - val_loss: 0.6478 - val_accuracy: 0.7221\n",
            "Epoch 39/200\n",
            "111/111 [==============================] - 2s 15ms/step - loss: 0.6509 - accuracy: 0.7190 - val_loss: 0.6480 - val_accuracy: 0.7200\n",
            "Epoch 40/200\n",
            "111/111 [==============================] - 2s 16ms/step - loss: 0.6494 - accuracy: 0.7200 - val_loss: 0.6503 - val_accuracy: 0.7170\n",
            "Epoch 41/200\n",
            "111/111 [==============================] - 2s 15ms/step - loss: 0.6528 - accuracy: 0.7181 - val_loss: 0.6486 - val_accuracy: 0.7169\n",
            "Epoch 42/200\n",
            "111/111 [==============================] - 2s 16ms/step - loss: 0.6554 - accuracy: 0.7163 - val_loss: 0.6473 - val_accuracy: 0.7210\n",
            "Epoch 43/200\n",
            "111/111 [==============================] - 2s 16ms/step - loss: 0.6530 - accuracy: 0.7178 - val_loss: 0.6511 - val_accuracy: 0.7228\n",
            "Epoch 44/200\n",
            "111/111 [==============================] - 2s 15ms/step - loss: 0.6518 - accuracy: 0.7182 - val_loss: 0.6480 - val_accuracy: 0.7215\n",
            "Epoch 45/200\n",
            "111/111 [==============================] - 1s 10ms/step - loss: 0.6530 - accuracy: 0.7175 - val_loss: 0.6545 - val_accuracy: 0.7219\n",
            "Epoch 46/200\n",
            "111/111 [==============================] - 2s 15ms/step - loss: 0.6490 - accuracy: 0.7202 - val_loss: 0.6487 - val_accuracy: 0.7183\n",
            "Epoch 47/200\n",
            "111/111 [==============================] - 2s 15ms/step - loss: 0.6505 - accuracy: 0.7190 - val_loss: 0.6570 - val_accuracy: 0.7089\n",
            "Epoch 48/200\n",
            "111/111 [==============================] - 1s 12ms/step - loss: 0.6478 - accuracy: 0.7209 - val_loss: 0.6529 - val_accuracy: 0.7217\n",
            "Epoch 49/200\n",
            "111/111 [==============================] - 2s 16ms/step - loss: 0.6526 - accuracy: 0.7176 - val_loss: 0.6496 - val_accuracy: 0.7232\n",
            "Epoch 50/200\n",
            "111/111 [==============================] - 1s 10ms/step - loss: 0.6491 - accuracy: 0.7196 - val_loss: 0.6509 - val_accuracy: 0.7154\n",
            "Epoch 51/200\n",
            "111/111 [==============================] - 1s 10ms/step - loss: 0.6496 - accuracy: 0.7197 - val_loss: 0.6466 - val_accuracy: 0.7238\n",
            "Epoch 52/200\n",
            "111/111 [==============================] - 1s 10ms/step - loss: 0.6525 - accuracy: 0.7176 - val_loss: 0.6488 - val_accuracy: 0.7241\n",
            "Epoch 53/200\n",
            "111/111 [==============================] - 2s 15ms/step - loss: 0.6471 - accuracy: 0.7210 - val_loss: 0.6471 - val_accuracy: 0.7223\n",
            "Epoch 54/200\n",
            "111/111 [==============================] - 2s 16ms/step - loss: 0.6474 - accuracy: 0.7208 - val_loss: 0.6455 - val_accuracy: 0.7224\n",
            "Epoch 55/200\n",
            "111/111 [==============================] - 1s 12ms/step - loss: 0.6456 - accuracy: 0.7218 - val_loss: 0.6454 - val_accuracy: 0.7227\n",
            "Epoch 56/200\n",
            "111/111 [==============================] - 2s 14ms/step - loss: 0.6558 - accuracy: 0.7153 - val_loss: 0.6494 - val_accuracy: 0.7237\n",
            "Epoch 57/200\n",
            "111/111 [==============================] - 2s 15ms/step - loss: 0.6528 - accuracy: 0.7170 - val_loss: 0.6452 - val_accuracy: 0.7206\n",
            "Epoch 58/200\n",
            "111/111 [==============================] - 2s 15ms/step - loss: 0.6483 - accuracy: 0.7201 - val_loss: 0.6485 - val_accuracy: 0.7233\n",
            "Epoch 59/200\n",
            "111/111 [==============================] - 2s 15ms/step - loss: 0.6469 - accuracy: 0.7208 - val_loss: 0.6558 - val_accuracy: 0.7088\n",
            "Epoch 60/200\n",
            "111/111 [==============================] - 1s 10ms/step - loss: 0.6467 - accuracy: 0.7212 - val_loss: 0.6506 - val_accuracy: 0.7118\n",
            "Epoch 61/200\n",
            "111/111 [==============================] - 1s 10ms/step - loss: 0.6464 - accuracy: 0.7212 - val_loss: 0.6566 - val_accuracy: 0.7189\n",
            "Epoch 62/200\n",
            "111/111 [==============================] - 1s 10ms/step - loss: 0.6522 - accuracy: 0.7176 - val_loss: 0.6443 - val_accuracy: 0.7215\n",
            "Epoch 63/200\n",
            "111/111 [==============================] - 1s 10ms/step - loss: 0.6457 - accuracy: 0.7217 - val_loss: 0.6488 - val_accuracy: 0.7234\n",
            "Epoch 64/200\n",
            "111/111 [==============================] - 2s 16ms/step - loss: 0.6475 - accuracy: 0.7204 - val_loss: 0.6464 - val_accuracy: 0.7234\n",
            "Epoch 65/200\n",
            "111/111 [==============================] - 2s 16ms/step - loss: 0.6537 - accuracy: 0.7164 - val_loss: 0.6561 - val_accuracy: 0.7092\n",
            "Epoch 66/200\n",
            "111/111 [==============================] - 2s 15ms/step - loss: 0.6482 - accuracy: 0.7199 - val_loss: 0.6614 - val_accuracy: 0.7055\n",
            "Epoch 67/200\n",
            "111/111 [==============================] - 1s 12ms/step - loss: 0.6464 - accuracy: 0.7210 - val_loss: 0.6503 - val_accuracy: 0.7217\n",
            "Epoch 68/200\n",
            "111/111 [==============================] - 2s 16ms/step - loss: 0.6480 - accuracy: 0.7201 - val_loss: 0.6434 - val_accuracy: 0.7221\n",
            "Epoch 69/200\n",
            "111/111 [==============================] - 2s 16ms/step - loss: 0.6459 - accuracy: 0.7214 - val_loss: 0.6432 - val_accuracy: 0.7239\n",
            "Epoch 70/200\n",
            "111/111 [==============================] - 2s 15ms/step - loss: 0.6488 - accuracy: 0.7192 - val_loss: 0.6434 - val_accuracy: 0.7231\n",
            "Epoch 71/200\n",
            "111/111 [==============================] - 2s 15ms/step - loss: 0.6445 - accuracy: 0.7223 - val_loss: 0.6449 - val_accuracy: 0.7250\n",
            "Epoch 72/200\n",
            "111/111 [==============================] - 1s 10ms/step - loss: 0.6500 - accuracy: 0.7187 - val_loss: 0.6441 - val_accuracy: 0.7239\n",
            "Epoch 73/200\n",
            "111/111 [==============================] - 1s 10ms/step - loss: 0.6446 - accuracy: 0.7221 - val_loss: 0.6429 - val_accuracy: 0.7250\n",
            "Epoch 74/200\n",
            "111/111 [==============================] - 2s 17ms/step - loss: 0.6482 - accuracy: 0.7197 - val_loss: 0.6425 - val_accuracy: 0.7235\n",
            "Epoch 75/200\n",
            "111/111 [==============================] - 2s 15ms/step - loss: 0.6453 - accuracy: 0.7218 - val_loss: 0.6424 - val_accuracy: 0.7245\n",
            "Epoch 76/200\n",
            "111/111 [==============================] - 1s 11ms/step - loss: 0.6499 - accuracy: 0.7184 - val_loss: 0.6538 - val_accuracy: 0.7198\n",
            "Epoch 77/200\n",
            "111/111 [==============================] - 2s 16ms/step - loss: 0.6458 - accuracy: 0.7212 - val_loss: 0.6623 - val_accuracy: 0.7051\n",
            "Epoch 78/200\n",
            "111/111 [==============================] - 2s 15ms/step - loss: 0.6451 - accuracy: 0.7215 - val_loss: 0.6510 - val_accuracy: 0.7128\n",
            "Epoch 79/200\n",
            "111/111 [==============================] - 2s 15ms/step - loss: 0.6444 - accuracy: 0.7220 - val_loss: 0.6424 - val_accuracy: 0.7250\n",
            "Epoch 80/200\n",
            "111/111 [==============================] - 2s 16ms/step - loss: 0.6444 - accuracy: 0.7219 - val_loss: 0.6512 - val_accuracy: 0.7138\n",
            "Epoch 81/200\n",
            "111/111 [==============================] - 1s 11ms/step - loss: 0.6469 - accuracy: 0.7202 - val_loss: 0.6465 - val_accuracy: 0.7252\n",
            "Epoch 82/200\n",
            "111/111 [==============================] - 1s 11ms/step - loss: 0.6479 - accuracy: 0.7198 - val_loss: 0.6424 - val_accuracy: 0.7234\n",
            "Epoch 83/200\n",
            "111/111 [==============================] - 2s 17ms/step - loss: 0.6424 - accuracy: 0.7234 - val_loss: 0.6417 - val_accuracy: 0.7212\n",
            "Epoch 84/200\n",
            "111/111 [==============================] - 2s 17ms/step - loss: 0.6444 - accuracy: 0.7218 - val_loss: 0.6424 - val_accuracy: 0.7208\n",
            "Epoch 85/200\n",
            "111/111 [==============================] - 1s 11ms/step - loss: 0.6444 - accuracy: 0.7217 - val_loss: 0.6424 - val_accuracy: 0.7242\n",
            "Epoch 86/200\n",
            "111/111 [==============================] - 2s 18ms/step - loss: 0.6472 - accuracy: 0.7200 - val_loss: 0.6596 - val_accuracy: 0.7153\n",
            "Epoch 87/200\n",
            "111/111 [==============================] - 2s 16ms/step - loss: 0.6468 - accuracy: 0.7202 - val_loss: 0.6414 - val_accuracy: 0.7224\n",
            "Epoch 88/200\n",
            "111/111 [==============================] - 1s 10ms/step - loss: 0.6420 - accuracy: 0.7236 - val_loss: 0.6421 - val_accuracy: 0.7200\n",
            "Epoch 89/200\n",
            "111/111 [==============================] - 1s 10ms/step - loss: 0.6476 - accuracy: 0.7197 - val_loss: 0.6409 - val_accuracy: 0.7255\n",
            "Epoch 90/200\n",
            "111/111 [==============================] - 1s 10ms/step - loss: 0.6420 - accuracy: 0.7233 - val_loss: 0.6403 - val_accuracy: 0.7234\n",
            "Epoch 91/200\n",
            "111/111 [==============================] - 1s 10ms/step - loss: 0.6434 - accuracy: 0.7226 - val_loss: 0.6418 - val_accuracy: 0.7199\n",
            "Epoch 92/200\n",
            "111/111 [==============================] - 2s 15ms/step - loss: 0.6446 - accuracy: 0.7215 - val_loss: 0.6502 - val_accuracy: 0.7120\n",
            "Epoch 93/200\n",
            "111/111 [==============================] - 2s 17ms/step - loss: 0.6427 - accuracy: 0.7230 - val_loss: 0.6420 - val_accuracy: 0.7263\n",
            "Epoch 94/200\n",
            "111/111 [==============================] - 1s 10ms/step - loss: 0.6407 - accuracy: 0.7242 - val_loss: 0.6411 - val_accuracy: 0.7262\n",
            "Epoch 95/200\n",
            "111/111 [==============================] - 1s 10ms/step - loss: 0.6507 - accuracy: 0.7176 - val_loss: 0.6397 - val_accuracy: 0.7249\n",
            "Epoch 96/200\n",
            "111/111 [==============================] - 2s 15ms/step - loss: 0.6407 - accuracy: 0.7244 - val_loss: 0.6413 - val_accuracy: 0.7262\n",
            "Epoch 97/200\n",
            "111/111 [==============================] - 2s 15ms/step - loss: 0.6486 - accuracy: 0.7189 - val_loss: 0.6405 - val_accuracy: 0.7235\n",
            "Epoch 98/200\n",
            "111/111 [==============================] - 2s 16ms/step - loss: 0.6437 - accuracy: 0.7222 - val_loss: 0.6394 - val_accuracy: 0.7243\n",
            "Epoch 99/200\n",
            "111/111 [==============================] - 1s 10ms/step - loss: 0.6423 - accuracy: 0.7234 - val_loss: 0.6510 - val_accuracy: 0.7126\n",
            "Epoch 100/200\n",
            "111/111 [==============================] - 1s 10ms/step - loss: 0.6459 - accuracy: 0.7208 - val_loss: 0.6393 - val_accuracy: 0.7254\n",
            "Epoch 101/200\n",
            "111/111 [==============================] - 2s 16ms/step - loss: 0.6415 - accuracy: 0.7236 - val_loss: 0.6404 - val_accuracy: 0.7208\n",
            "Epoch 102/200\n",
            "111/111 [==============================] - 3s 29ms/step - loss: 0.6420 - accuracy: 0.7233 - val_loss: 0.6423 - val_accuracy: 0.7264\n",
            "Epoch 103/200\n",
            "111/111 [==============================] - 1s 13ms/step - loss: 0.6421 - accuracy: 0.7233 - val_loss: 0.6457 - val_accuracy: 0.7241\n",
            "Epoch 104/200\n",
            "104/111 [===========================>..] - ETA: 0s - loss: 0.6414 - accuracy: 0.7236"
          ]
        },
        {
          "output_type": "error",
          "ename": "KeyboardInterrupt",
          "evalue": "",
          "traceback": [
            "\u001b[0;31m---------------------------------------------------------------------------\u001b[0m",
            "\u001b[0;31mKeyboardInterrupt\u001b[0m                         Traceback (most recent call last)",
            "\u001b[0;32m<ipython-input-160-0afc51a3292b>\u001b[0m in \u001b[0;36m<cell line: 1>\u001b[0;34m()\u001b[0m\n\u001b[0;32m----> 1\u001b[0;31m \u001b[0mhistory\u001b[0m \u001b[0;34m=\u001b[0m \u001b[0mmodel\u001b[0m\u001b[0;34m.\u001b[0m\u001b[0mfit\u001b[0m\u001b[0;34m(\u001b[0m\u001b[0mX_train\u001b[0m\u001b[0;34m,\u001b[0m \u001b[0my_train\u001b[0m\u001b[0;34m,\u001b[0m \u001b[0mepochs\u001b[0m\u001b[0;34m=\u001b[0m\u001b[0;36m200\u001b[0m\u001b[0;34m,\u001b[0m\u001b[0mvalidation_data\u001b[0m\u001b[0;34m=\u001b[0m\u001b[0;34m(\u001b[0m\u001b[0mX_test\u001b[0m\u001b[0;34m,\u001b[0m \u001b[0my_test\u001b[0m\u001b[0;34m)\u001b[0m\u001b[0;34m,\u001b[0m\u001b[0mbatch_size\u001b[0m \u001b[0;34m=\u001b[0m \u001b[0;36m8192\u001b[0m\u001b[0;34m,\u001b[0m\u001b[0mvalidation_batch_size\u001b[0m\u001b[0;34m=\u001b[0m\u001b[0;36m8192\u001b[0m\u001b[0;34m)\u001b[0m\u001b[0;34m\u001b[0m\u001b[0;34m\u001b[0m\u001b[0m\n\u001b[0m",
            "\u001b[0;32m/usr/local/lib/python3.10/dist-packages/keras/src/utils/traceback_utils.py\u001b[0m in \u001b[0;36merror_handler\u001b[0;34m(*args, **kwargs)\u001b[0m\n\u001b[1;32m     63\u001b[0m         \u001b[0mfiltered_tb\u001b[0m \u001b[0;34m=\u001b[0m \u001b[0;32mNone\u001b[0m\u001b[0;34m\u001b[0m\u001b[0;34m\u001b[0m\u001b[0m\n\u001b[1;32m     64\u001b[0m         \u001b[0;32mtry\u001b[0m\u001b[0;34m:\u001b[0m\u001b[0;34m\u001b[0m\u001b[0;34m\u001b[0m\u001b[0m\n\u001b[0;32m---> 65\u001b[0;31m             \u001b[0;32mreturn\u001b[0m \u001b[0mfn\u001b[0m\u001b[0;34m(\u001b[0m\u001b[0;34m*\u001b[0m\u001b[0margs\u001b[0m\u001b[0;34m,\u001b[0m \u001b[0;34m**\u001b[0m\u001b[0mkwargs\u001b[0m\u001b[0;34m)\u001b[0m\u001b[0;34m\u001b[0m\u001b[0;34m\u001b[0m\u001b[0m\n\u001b[0m\u001b[1;32m     66\u001b[0m         \u001b[0;32mexcept\u001b[0m \u001b[0mException\u001b[0m \u001b[0;32mas\u001b[0m \u001b[0me\u001b[0m\u001b[0;34m:\u001b[0m\u001b[0;34m\u001b[0m\u001b[0;34m\u001b[0m\u001b[0m\n\u001b[1;32m     67\u001b[0m             \u001b[0mfiltered_tb\u001b[0m \u001b[0;34m=\u001b[0m \u001b[0m_process_traceback_frames\u001b[0m\u001b[0;34m(\u001b[0m\u001b[0me\u001b[0m\u001b[0;34m.\u001b[0m\u001b[0m__traceback__\u001b[0m\u001b[0;34m)\u001b[0m\u001b[0;34m\u001b[0m\u001b[0;34m\u001b[0m\u001b[0m\n",
            "\u001b[0;32m/usr/local/lib/python3.10/dist-packages/keras/src/engine/training.py\u001b[0m in \u001b[0;36mfit\u001b[0;34m(self, x, y, batch_size, epochs, verbose, callbacks, validation_split, validation_data, shuffle, class_weight, sample_weight, initial_epoch, steps_per_epoch, validation_steps, validation_batch_size, validation_freq, max_queue_size, workers, use_multiprocessing)\u001b[0m\n\u001b[1;32m   1854\u001b[0m                             \u001b[0mpss_evaluation_shards\u001b[0m\u001b[0;34m=\u001b[0m\u001b[0mself\u001b[0m\u001b[0;34m.\u001b[0m\u001b[0m_pss_evaluation_shards\u001b[0m\u001b[0;34m,\u001b[0m\u001b[0;34m\u001b[0m\u001b[0;34m\u001b[0m\u001b[0m\n\u001b[1;32m   1855\u001b[0m                         )\n\u001b[0;32m-> 1856\u001b[0;31m                     val_logs = self.evaluate(\n\u001b[0m\u001b[1;32m   1857\u001b[0m                         \u001b[0mx\u001b[0m\u001b[0;34m=\u001b[0m\u001b[0mval_x\u001b[0m\u001b[0;34m,\u001b[0m\u001b[0;34m\u001b[0m\u001b[0;34m\u001b[0m\u001b[0m\n\u001b[1;32m   1858\u001b[0m                         \u001b[0my\u001b[0m\u001b[0;34m=\u001b[0m\u001b[0mval_y\u001b[0m\u001b[0;34m,\u001b[0m\u001b[0;34m\u001b[0m\u001b[0;34m\u001b[0m\u001b[0m\n",
            "\u001b[0;32m/usr/local/lib/python3.10/dist-packages/keras/src/utils/traceback_utils.py\u001b[0m in \u001b[0;36merror_handler\u001b[0;34m(*args, **kwargs)\u001b[0m\n\u001b[1;32m     63\u001b[0m         \u001b[0mfiltered_tb\u001b[0m \u001b[0;34m=\u001b[0m \u001b[0;32mNone\u001b[0m\u001b[0;34m\u001b[0m\u001b[0;34m\u001b[0m\u001b[0m\n\u001b[1;32m     64\u001b[0m         \u001b[0;32mtry\u001b[0m\u001b[0;34m:\u001b[0m\u001b[0;34m\u001b[0m\u001b[0;34m\u001b[0m\u001b[0m\n\u001b[0;32m---> 65\u001b[0;31m             \u001b[0;32mreturn\u001b[0m \u001b[0mfn\u001b[0m\u001b[0;34m(\u001b[0m\u001b[0;34m*\u001b[0m\u001b[0margs\u001b[0m\u001b[0;34m,\u001b[0m \u001b[0;34m**\u001b[0m\u001b[0mkwargs\u001b[0m\u001b[0;34m)\u001b[0m\u001b[0;34m\u001b[0m\u001b[0;34m\u001b[0m\u001b[0m\n\u001b[0m\u001b[1;32m     66\u001b[0m         \u001b[0;32mexcept\u001b[0m \u001b[0mException\u001b[0m \u001b[0;32mas\u001b[0m \u001b[0me\u001b[0m\u001b[0;34m:\u001b[0m\u001b[0;34m\u001b[0m\u001b[0;34m\u001b[0m\u001b[0m\n\u001b[1;32m     67\u001b[0m             \u001b[0mfiltered_tb\u001b[0m \u001b[0;34m=\u001b[0m \u001b[0m_process_traceback_frames\u001b[0m\u001b[0;34m(\u001b[0m\u001b[0me\u001b[0m\u001b[0;34m.\u001b[0m\u001b[0m__traceback__\u001b[0m\u001b[0;34m)\u001b[0m\u001b[0;34m\u001b[0m\u001b[0;34m\u001b[0m\u001b[0m\n",
            "\u001b[0;32m/usr/local/lib/python3.10/dist-packages/keras/src/engine/training.py\u001b[0m in \u001b[0;36mevaluate\u001b[0;34m(self, x, y, batch_size, verbose, sample_weight, steps, callbacks, max_queue_size, workers, use_multiprocessing, return_dict, **kwargs)\u001b[0m\n\u001b[1;32m   2294\u001b[0m                         ):\n\u001b[1;32m   2295\u001b[0m                             \u001b[0mcallbacks\u001b[0m\u001b[0;34m.\u001b[0m\u001b[0mon_test_batch_begin\u001b[0m\u001b[0;34m(\u001b[0m\u001b[0mstep\u001b[0m\u001b[0;34m)\u001b[0m\u001b[0;34m\u001b[0m\u001b[0;34m\u001b[0m\u001b[0m\n\u001b[0;32m-> 2296\u001b[0;31m                             logs = test_function_runner.run_step(\n\u001b[0m\u001b[1;32m   2297\u001b[0m                                 \u001b[0mdataset_or_iterator\u001b[0m\u001b[0;34m,\u001b[0m\u001b[0;34m\u001b[0m\u001b[0;34m\u001b[0m\u001b[0m\n\u001b[1;32m   2298\u001b[0m                                 \u001b[0mdata_handler\u001b[0m\u001b[0;34m,\u001b[0m\u001b[0;34m\u001b[0m\u001b[0;34m\u001b[0m\u001b[0m\n",
            "\u001b[0;32m/usr/local/lib/python3.10/dist-packages/keras/src/engine/training.py\u001b[0m in \u001b[0;36mrun_step\u001b[0;34m(self, dataset_or_iterator, data_handler, step, unused_shards)\u001b[0m\n\u001b[1;32m   4106\u001b[0m \u001b[0;34m\u001b[0m\u001b[0m\n\u001b[1;32m   4107\u001b[0m     \u001b[0;32mdef\u001b[0m \u001b[0mrun_step\u001b[0m\u001b[0;34m(\u001b[0m\u001b[0mself\u001b[0m\u001b[0;34m,\u001b[0m \u001b[0mdataset_or_iterator\u001b[0m\u001b[0;34m,\u001b[0m \u001b[0mdata_handler\u001b[0m\u001b[0;34m,\u001b[0m \u001b[0mstep\u001b[0m\u001b[0;34m,\u001b[0m \u001b[0munused_shards\u001b[0m\u001b[0;34m)\u001b[0m\u001b[0;34m:\u001b[0m\u001b[0;34m\u001b[0m\u001b[0;34m\u001b[0m\u001b[0m\n\u001b[0;32m-> 4108\u001b[0;31m         \u001b[0mtmp_logs\u001b[0m \u001b[0;34m=\u001b[0m \u001b[0mself\u001b[0m\u001b[0;34m.\u001b[0m\u001b[0m_function\u001b[0m\u001b[0;34m(\u001b[0m\u001b[0mdataset_or_iterator\u001b[0m\u001b[0;34m)\u001b[0m\u001b[0;34m\u001b[0m\u001b[0;34m\u001b[0m\u001b[0m\n\u001b[0m\u001b[1;32m   4109\u001b[0m         \u001b[0;32mif\u001b[0m \u001b[0mdata_handler\u001b[0m\u001b[0;34m.\u001b[0m\u001b[0mshould_sync\u001b[0m\u001b[0;34m:\u001b[0m\u001b[0;34m\u001b[0m\u001b[0;34m\u001b[0m\u001b[0m\n\u001b[1;32m   4110\u001b[0m             \u001b[0mcontext\u001b[0m\u001b[0;34m.\u001b[0m\u001b[0masync_wait\u001b[0m\u001b[0;34m(\u001b[0m\u001b[0;34m)\u001b[0m\u001b[0;34m\u001b[0m\u001b[0;34m\u001b[0m\u001b[0m\n",
            "\u001b[0;32m/usr/local/lib/python3.10/dist-packages/tensorflow/python/util/traceback_utils.py\u001b[0m in \u001b[0;36merror_handler\u001b[0;34m(*args, **kwargs)\u001b[0m\n\u001b[1;32m    148\u001b[0m     \u001b[0mfiltered_tb\u001b[0m \u001b[0;34m=\u001b[0m \u001b[0;32mNone\u001b[0m\u001b[0;34m\u001b[0m\u001b[0;34m\u001b[0m\u001b[0m\n\u001b[1;32m    149\u001b[0m     \u001b[0;32mtry\u001b[0m\u001b[0;34m:\u001b[0m\u001b[0;34m\u001b[0m\u001b[0;34m\u001b[0m\u001b[0m\n\u001b[0;32m--> 150\u001b[0;31m       \u001b[0;32mreturn\u001b[0m \u001b[0mfn\u001b[0m\u001b[0;34m(\u001b[0m\u001b[0;34m*\u001b[0m\u001b[0margs\u001b[0m\u001b[0;34m,\u001b[0m \u001b[0;34m**\u001b[0m\u001b[0mkwargs\u001b[0m\u001b[0;34m)\u001b[0m\u001b[0;34m\u001b[0m\u001b[0;34m\u001b[0m\u001b[0m\n\u001b[0m\u001b[1;32m    151\u001b[0m     \u001b[0;32mexcept\u001b[0m \u001b[0mException\u001b[0m \u001b[0;32mas\u001b[0m \u001b[0me\u001b[0m\u001b[0;34m:\u001b[0m\u001b[0;34m\u001b[0m\u001b[0;34m\u001b[0m\u001b[0m\n\u001b[1;32m    152\u001b[0m       \u001b[0mfiltered_tb\u001b[0m \u001b[0;34m=\u001b[0m \u001b[0m_process_traceback_frames\u001b[0m\u001b[0;34m(\u001b[0m\u001b[0me\u001b[0m\u001b[0;34m.\u001b[0m\u001b[0m__traceback__\u001b[0m\u001b[0;34m)\u001b[0m\u001b[0;34m\u001b[0m\u001b[0;34m\u001b[0m\u001b[0m\n",
            "\u001b[0;32m/usr/local/lib/python3.10/dist-packages/tensorflow/python/eager/polymorphic_function/polymorphic_function.py\u001b[0m in \u001b[0;36m__call__\u001b[0;34m(self, *args, **kwds)\u001b[0m\n\u001b[1;32m    830\u001b[0m \u001b[0;34m\u001b[0m\u001b[0m\n\u001b[1;32m    831\u001b[0m       \u001b[0;32mwith\u001b[0m \u001b[0mOptionalXlaContext\u001b[0m\u001b[0;34m(\u001b[0m\u001b[0mself\u001b[0m\u001b[0;34m.\u001b[0m\u001b[0m_jit_compile\u001b[0m\u001b[0;34m)\u001b[0m\u001b[0;34m:\u001b[0m\u001b[0;34m\u001b[0m\u001b[0;34m\u001b[0m\u001b[0m\n\u001b[0;32m--> 832\u001b[0;31m         \u001b[0mresult\u001b[0m \u001b[0;34m=\u001b[0m \u001b[0mself\u001b[0m\u001b[0;34m.\u001b[0m\u001b[0m_call\u001b[0m\u001b[0;34m(\u001b[0m\u001b[0;34m*\u001b[0m\u001b[0margs\u001b[0m\u001b[0;34m,\u001b[0m \u001b[0;34m**\u001b[0m\u001b[0mkwds\u001b[0m\u001b[0;34m)\u001b[0m\u001b[0;34m\u001b[0m\u001b[0;34m\u001b[0m\u001b[0m\n\u001b[0m\u001b[1;32m    833\u001b[0m \u001b[0;34m\u001b[0m\u001b[0m\n\u001b[1;32m    834\u001b[0m       \u001b[0mnew_tracing_count\u001b[0m \u001b[0;34m=\u001b[0m \u001b[0mself\u001b[0m\u001b[0;34m.\u001b[0m\u001b[0mexperimental_get_tracing_count\u001b[0m\u001b[0;34m(\u001b[0m\u001b[0;34m)\u001b[0m\u001b[0;34m\u001b[0m\u001b[0;34m\u001b[0m\u001b[0m\n",
            "\u001b[0;32m/usr/local/lib/python3.10/dist-packages/tensorflow/python/eager/polymorphic_function/polymorphic_function.py\u001b[0m in \u001b[0;36m_call\u001b[0;34m(self, *args, **kwds)\u001b[0m\n\u001b[1;32m    875\u001b[0m       \u001b[0;31m# In this case we have not created variables on the first call. So we can\u001b[0m\u001b[0;34m\u001b[0m\u001b[0;34m\u001b[0m\u001b[0m\n\u001b[1;32m    876\u001b[0m       \u001b[0;31m# run the first trace but we should fail if variables are created.\u001b[0m\u001b[0;34m\u001b[0m\u001b[0;34m\u001b[0m\u001b[0m\n\u001b[0;32m--> 877\u001b[0;31m       results = tracing_compilation.call_function(\n\u001b[0m\u001b[1;32m    878\u001b[0m           \u001b[0margs\u001b[0m\u001b[0;34m,\u001b[0m \u001b[0mkwds\u001b[0m\u001b[0;34m,\u001b[0m \u001b[0mself\u001b[0m\u001b[0;34m.\u001b[0m\u001b[0m_variable_creation_config\u001b[0m\u001b[0;34m\u001b[0m\u001b[0;34m\u001b[0m\u001b[0m\n\u001b[1;32m    879\u001b[0m       )\n",
            "\u001b[0;32m/usr/local/lib/python3.10/dist-packages/tensorflow/python/eager/polymorphic_function/tracing_compilation.py\u001b[0m in \u001b[0;36mcall_function\u001b[0;34m(args, kwargs, tracing_options)\u001b[0m\n\u001b[1;32m    137\u001b[0m   \u001b[0mbound_args\u001b[0m \u001b[0;34m=\u001b[0m \u001b[0mfunction\u001b[0m\u001b[0;34m.\u001b[0m\u001b[0mfunction_type\u001b[0m\u001b[0;34m.\u001b[0m\u001b[0mbind\u001b[0m\u001b[0;34m(\u001b[0m\u001b[0;34m*\u001b[0m\u001b[0margs\u001b[0m\u001b[0;34m,\u001b[0m \u001b[0;34m**\u001b[0m\u001b[0mkwargs\u001b[0m\u001b[0;34m)\u001b[0m\u001b[0;34m\u001b[0m\u001b[0;34m\u001b[0m\u001b[0m\n\u001b[1;32m    138\u001b[0m   \u001b[0mflat_inputs\u001b[0m \u001b[0;34m=\u001b[0m \u001b[0mfunction\u001b[0m\u001b[0;34m.\u001b[0m\u001b[0mfunction_type\u001b[0m\u001b[0;34m.\u001b[0m\u001b[0munpack_inputs\u001b[0m\u001b[0;34m(\u001b[0m\u001b[0mbound_args\u001b[0m\u001b[0;34m)\u001b[0m\u001b[0;34m\u001b[0m\u001b[0;34m\u001b[0m\u001b[0m\n\u001b[0;32m--> 139\u001b[0;31m   return function._call_flat(  # pylint: disable=protected-access\n\u001b[0m\u001b[1;32m    140\u001b[0m       \u001b[0mflat_inputs\u001b[0m\u001b[0;34m,\u001b[0m \u001b[0mcaptured_inputs\u001b[0m\u001b[0;34m=\u001b[0m\u001b[0mfunction\u001b[0m\u001b[0;34m.\u001b[0m\u001b[0mcaptured_inputs\u001b[0m\u001b[0;34m\u001b[0m\u001b[0;34m\u001b[0m\u001b[0m\n\u001b[1;32m    141\u001b[0m   )\n",
            "\u001b[0;32m/usr/local/lib/python3.10/dist-packages/tensorflow/python/eager/polymorphic_function/concrete_function.py\u001b[0m in \u001b[0;36m_call_flat\u001b[0;34m(self, tensor_inputs, captured_inputs)\u001b[0m\n\u001b[1;32m   1321\u001b[0m         and executing_eagerly):\n\u001b[1;32m   1322\u001b[0m       \u001b[0;31m# No tape is watching; skip to running the function.\u001b[0m\u001b[0;34m\u001b[0m\u001b[0;34m\u001b[0m\u001b[0m\n\u001b[0;32m-> 1323\u001b[0;31m       \u001b[0;32mreturn\u001b[0m \u001b[0mself\u001b[0m\u001b[0;34m.\u001b[0m\u001b[0m_inference_function\u001b[0m\u001b[0;34m.\u001b[0m\u001b[0mcall_preflattened\u001b[0m\u001b[0;34m(\u001b[0m\u001b[0margs\u001b[0m\u001b[0;34m)\u001b[0m\u001b[0;34m\u001b[0m\u001b[0;34m\u001b[0m\u001b[0m\n\u001b[0m\u001b[1;32m   1324\u001b[0m     forward_backward = self._select_forward_and_backward_functions(\n\u001b[1;32m   1325\u001b[0m         \u001b[0margs\u001b[0m\u001b[0;34m,\u001b[0m\u001b[0;34m\u001b[0m\u001b[0;34m\u001b[0m\u001b[0m\n",
            "\u001b[0;32m/usr/local/lib/python3.10/dist-packages/tensorflow/python/eager/polymorphic_function/atomic_function.py\u001b[0m in \u001b[0;36mcall_preflattened\u001b[0;34m(self, args)\u001b[0m\n\u001b[1;32m    214\u001b[0m   \u001b[0;32mdef\u001b[0m \u001b[0mcall_preflattened\u001b[0m\u001b[0;34m(\u001b[0m\u001b[0mself\u001b[0m\u001b[0;34m,\u001b[0m \u001b[0margs\u001b[0m\u001b[0;34m:\u001b[0m \u001b[0mSequence\u001b[0m\u001b[0;34m[\u001b[0m\u001b[0mcore\u001b[0m\u001b[0;34m.\u001b[0m\u001b[0mTensor\u001b[0m\u001b[0;34m]\u001b[0m\u001b[0;34m)\u001b[0m \u001b[0;34m->\u001b[0m \u001b[0mAny\u001b[0m\u001b[0;34m:\u001b[0m\u001b[0;34m\u001b[0m\u001b[0;34m\u001b[0m\u001b[0m\n\u001b[1;32m    215\u001b[0m     \u001b[0;34m\"\"\"Calls with flattened tensor inputs and returns the structured output.\"\"\"\u001b[0m\u001b[0;34m\u001b[0m\u001b[0;34m\u001b[0m\u001b[0m\n\u001b[0;32m--> 216\u001b[0;31m     \u001b[0mflat_outputs\u001b[0m \u001b[0;34m=\u001b[0m \u001b[0mself\u001b[0m\u001b[0;34m.\u001b[0m\u001b[0mcall_flat\u001b[0m\u001b[0;34m(\u001b[0m\u001b[0;34m*\u001b[0m\u001b[0margs\u001b[0m\u001b[0;34m)\u001b[0m\u001b[0;34m\u001b[0m\u001b[0;34m\u001b[0m\u001b[0m\n\u001b[0m\u001b[1;32m    217\u001b[0m     \u001b[0;32mreturn\u001b[0m \u001b[0mself\u001b[0m\u001b[0;34m.\u001b[0m\u001b[0mfunction_type\u001b[0m\u001b[0;34m.\u001b[0m\u001b[0mpack_output\u001b[0m\u001b[0;34m(\u001b[0m\u001b[0mflat_outputs\u001b[0m\u001b[0;34m)\u001b[0m\u001b[0;34m\u001b[0m\u001b[0;34m\u001b[0m\u001b[0m\n\u001b[1;32m    218\u001b[0m \u001b[0;34m\u001b[0m\u001b[0m\n",
            "\u001b[0;32m/usr/local/lib/python3.10/dist-packages/tensorflow/python/eager/polymorphic_function/atomic_function.py\u001b[0m in \u001b[0;36mcall_flat\u001b[0;34m(self, *args)\u001b[0m\n\u001b[1;32m    249\u001b[0m         \u001b[0;32mwith\u001b[0m \u001b[0mrecord\u001b[0m\u001b[0;34m.\u001b[0m\u001b[0mstop_recording\u001b[0m\u001b[0;34m(\u001b[0m\u001b[0;34m)\u001b[0m\u001b[0;34m:\u001b[0m\u001b[0;34m\u001b[0m\u001b[0;34m\u001b[0m\u001b[0m\n\u001b[1;32m    250\u001b[0m           \u001b[0;32mif\u001b[0m \u001b[0mself\u001b[0m\u001b[0;34m.\u001b[0m\u001b[0m_bound_context\u001b[0m\u001b[0;34m.\u001b[0m\u001b[0mexecuting_eagerly\u001b[0m\u001b[0;34m(\u001b[0m\u001b[0;34m)\u001b[0m\u001b[0;34m:\u001b[0m\u001b[0;34m\u001b[0m\u001b[0;34m\u001b[0m\u001b[0m\n\u001b[0;32m--> 251\u001b[0;31m             outputs = self._bound_context.call_function(\n\u001b[0m\u001b[1;32m    252\u001b[0m                 \u001b[0mself\u001b[0m\u001b[0;34m.\u001b[0m\u001b[0mname\u001b[0m\u001b[0;34m,\u001b[0m\u001b[0;34m\u001b[0m\u001b[0;34m\u001b[0m\u001b[0m\n\u001b[1;32m    253\u001b[0m                 \u001b[0mlist\u001b[0m\u001b[0;34m(\u001b[0m\u001b[0margs\u001b[0m\u001b[0;34m)\u001b[0m\u001b[0;34m,\u001b[0m\u001b[0;34m\u001b[0m\u001b[0;34m\u001b[0m\u001b[0m\n",
            "\u001b[0;32m/usr/local/lib/python3.10/dist-packages/tensorflow/python/eager/context.py\u001b[0m in \u001b[0;36mcall_function\u001b[0;34m(self, name, tensor_inputs, num_outputs)\u001b[0m\n\u001b[1;32m   1484\u001b[0m     \u001b[0mcancellation_context\u001b[0m \u001b[0;34m=\u001b[0m \u001b[0mcancellation\u001b[0m\u001b[0;34m.\u001b[0m\u001b[0mcontext\u001b[0m\u001b[0;34m(\u001b[0m\u001b[0;34m)\u001b[0m\u001b[0;34m\u001b[0m\u001b[0;34m\u001b[0m\u001b[0m\n\u001b[1;32m   1485\u001b[0m     \u001b[0;32mif\u001b[0m \u001b[0mcancellation_context\u001b[0m \u001b[0;32mis\u001b[0m \u001b[0;32mNone\u001b[0m\u001b[0;34m:\u001b[0m\u001b[0;34m\u001b[0m\u001b[0;34m\u001b[0m\u001b[0m\n\u001b[0;32m-> 1486\u001b[0;31m       outputs = execute.execute(\n\u001b[0m\u001b[1;32m   1487\u001b[0m           \u001b[0mname\u001b[0m\u001b[0;34m.\u001b[0m\u001b[0mdecode\u001b[0m\u001b[0;34m(\u001b[0m\u001b[0;34m\"utf-8\"\u001b[0m\u001b[0;34m)\u001b[0m\u001b[0;34m,\u001b[0m\u001b[0;34m\u001b[0m\u001b[0;34m\u001b[0m\u001b[0m\n\u001b[1;32m   1488\u001b[0m           \u001b[0mnum_outputs\u001b[0m\u001b[0;34m=\u001b[0m\u001b[0mnum_outputs\u001b[0m\u001b[0;34m,\u001b[0m\u001b[0;34m\u001b[0m\u001b[0;34m\u001b[0m\u001b[0m\n",
            "\u001b[0;32m/usr/local/lib/python3.10/dist-packages/tensorflow/python/eager/execute.py\u001b[0m in \u001b[0;36mquick_execute\u001b[0;34m(op_name, num_outputs, inputs, attrs, ctx, name)\u001b[0m\n\u001b[1;32m     51\u001b[0m   \u001b[0;32mtry\u001b[0m\u001b[0;34m:\u001b[0m\u001b[0;34m\u001b[0m\u001b[0;34m\u001b[0m\u001b[0m\n\u001b[1;32m     52\u001b[0m     \u001b[0mctx\u001b[0m\u001b[0;34m.\u001b[0m\u001b[0mensure_initialized\u001b[0m\u001b[0;34m(\u001b[0m\u001b[0;34m)\u001b[0m\u001b[0;34m\u001b[0m\u001b[0;34m\u001b[0m\u001b[0m\n\u001b[0;32m---> 53\u001b[0;31m     tensors = pywrap_tfe.TFE_Py_Execute(ctx._handle, device_name, op_name,\n\u001b[0m\u001b[1;32m     54\u001b[0m                                         inputs, attrs, num_outputs)\n\u001b[1;32m     55\u001b[0m   \u001b[0;32mexcept\u001b[0m \u001b[0mcore\u001b[0m\u001b[0;34m.\u001b[0m\u001b[0m_NotOkStatusException\u001b[0m \u001b[0;32mas\u001b[0m \u001b[0me\u001b[0m\u001b[0;34m:\u001b[0m\u001b[0;34m\u001b[0m\u001b[0;34m\u001b[0m\u001b[0m\n",
            "\u001b[0;31mKeyboardInterrupt\u001b[0m: "
          ]
        }
      ]
    }
  ]
}